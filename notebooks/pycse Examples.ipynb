{
 "metadata": {
  "name": "",
  "signature": "sha256:3c86145f7ec30502a3a275a5233c8224469f288dcd46fbfef962eb90d74c4080"
 },
 "nbformat": 3,
 "nbformat_minor": 0,
 "worksheets": [
  {
   "cells": [
    {
     "cell_type": "heading",
     "level": 3,
     "metadata": {},
     "source": [
      "Example from pycse 1"
     ]
    },
    {
     "cell_type": "code",
     "collapsed": false,
     "input": [
      "\n",
      "# copied from http://kitchingroup.cheme.cmu.edu/blog/tag/events/\n",
      "\n",
      "from pycse import odelay\n",
      "import matplotlib.pyplot as plt\n",
      "import numpy as np\n",
      "\n",
      "def ode(Y,x):\n",
      "    y1, y2 = Y\n",
      "    dy1dx = y2\n",
      "    dy2dx = -y1\n",
      "    return [dy1dx, dy2dx]\n",
      "\n",
      "def event1(Y, x):\n",
      "    y1, y2 = Y\n",
      "    value = y2 - (-1.0)\n",
      "    isterminal = True\n",
      "    direction  = 0\n",
      "    return value, isterminal, direction\n",
      "\n",
      "def event2(Y, x):\n",
      "    dy1dx, dy2dx = ode(Y,x)\n",
      "    value = dy1dx - 0.0\n",
      "    isterminal = False\n",
      "    direction = -1  # derivative is decreasing towards a maximum\n",
      "    return value, isterminal, direction\n",
      "\n",
      "Y0 = [2.0, 1.0]\n",
      "xspan = np.linspace(0, 5)\n",
      "X, Y, XE, YE, IE = odelay(ode, Y0, xspan, events=[event1, event2])\n",
      "\n",
      "plt.plot(X, Y)\n",
      "for ie,xe,ye in zip(IE, XE, YE):\n",
      "    if ie == 1: #this is the second event\n",
      "        y1,y2 = ye\n",
      "        plt.plot(xe, y1, 'ro') \n",
      "        \n",
      "plt.legend(['$y_1$', '$y_2$'], loc='best')\n",
      "#plt.savefig('images/odelay-mult-eq.png')\n",
      "plt.show()"
     ],
     "language": "python",
     "metadata": {},
     "outputs": [],
     "prompt_number": 1
    },
    {
     "cell_type": "heading",
     "level": 3,
     "metadata": {},
     "source": [
      "Example from pycse 2"
     ]
    },
    {
     "cell_type": "code",
     "collapsed": false,
     "input": [
      "\n",
      "# copied from: http://kitchingroup.cheme.cmu.edu/pycse/pycse.html#sec-10-1-8\n",
      "\n",
      "# 10.1.8 Stopping the integration of an ODE at some condition\n",
      "\n",
      "from pycse import *\n",
      "import numpy as np\n",
      "\n",
      "k = 0.23\n",
      "Ca0 = 2.3\n",
      "\n",
      "def dCadt(Ca, t):\n",
      "    return -k * Ca**2\n",
      "\n",
      "def stop(Ca, t):\n",
      "    isterminal = True\n",
      "    direction = 0\n",
      "    value = 1.0 - Ca\n",
      "    return value, isterminal, direction\n",
      "\n",
      "tspan = np.linspace(0.0, 10.0)\n",
      "\n",
      "t, CA, TE, YE, IE = odelay(dCadt, Ca0, tspan, events=[stop])\n",
      "\n",
      "print 'At t = {0:1.2f} seconds the concentration of A is {1:1.2f} mol/L.'.format(t[-1], float(CA[-1]))"
     ],
     "language": "python",
     "metadata": {},
     "outputs": [
      {
       "output_type": "stream",
       "stream": "stdout",
       "text": [
        "At t = 2.46 seconds the concentration of A is 1.00 mol/L.\n"
       ]
      }
     ],
     "prompt_number": 2
    },
    {
     "cell_type": "heading",
     "level": 3,
     "metadata": {},
     "source": [
      "fsolve example"
     ]
    },
    {
     "cell_type": "code",
     "collapsed": false,
     "input": [
      "from math import cos\n",
      "\n",
      "def func(x):\n",
      "    return x + 2*cos(x)  # finds where this is zero\n",
      "\n",
      "def func2(x):\n",
      "    out = [x[0]*cos(x[1]) - 4]\n",
      "    out.append(x[1]*x[0] - x[1] - 5)\n",
      "    return out  # finds where both elements of this array are zero\n",
      "\n",
      "\n",
      "from scipy.optimize import fsolve\n",
      "x0 = fsolve(func, 0.3)  # initial guess\n",
      "print x0\n",
      "print func(x0)\n",
      "#-1.02986652932\n",
      "\n",
      "x02 = fsolve(func2, [1, 1]) # initial guesses\n",
      "print x02\n",
      "print func2(x02)\n",
      "#[ 6.50409711  0.90841421]"
     ],
     "language": "python",
     "metadata": {},
     "outputs": [
      {
       "output_type": "stream",
       "stream": "stdout",
       "text": [
        "[-1.02986653]\n",
        "[ -6.66133815e-16]\n",
        "[ 6.50409711  0.90841421]\n",
        "[3.7321257195799262e-12, 1.617017630906048e-11]\n"
       ]
      }
     ],
     "prompt_number": 3
    },
    {
     "cell_type": "heading",
     "level": 3,
     "metadata": {},
     "source": [
      "CRTBP Derivatives, Stopping Conditions, and Initial Conditions"
     ]
    },
    {
     "cell_type": "code",
     "collapsed": false,
     "input": [
      "%reset\n",
      "%pylab inline\n",
      "\n",
      "\n",
      "import scipy.integrate as integrate\n",
      "import matplotlib.pyplot as plt\n",
      "from mpl_toolkits.mplot3d import Axes3D\n",
      "import numpy as np\n",
      "import math\n",
      "from pycse import odelay\n",
      "from scipy.optimize import fsolve\n",
      "\n",
      "def stop_yEquals0(state, t):\n",
      "    isterminal = True\n",
      "    direction = 0\n",
      "    value = state[1]\n",
      "    return value, isterminal, direction\n",
      "\n",
      "def stop_zEquals0(state, t):\n",
      "    isterminal = True\n",
      "    direction = 0\n",
      "    value = state[2]\n",
      "    return value, isterminal, direction\n",
      "\n",
      "def stop_maxTime(state, t):\n",
      "    isterminal = True\n",
      "    direction = 0\n",
      "    value = abs(t)-2  # stop if time is greater than 2 units\n",
      "    return value, isterminal, direction\n",
      "\n",
      "def nonlinearDerivativesFunction(inputstate, timespan):\n",
      "    \n",
      "    x, y, z, xdot, ydot, zdot = inputstate\n",
      "    \n",
      "    # distances\n",
      "    r1 = np.sqrt((mu+x)**2.0 + y**2.0 + z**2.0);\n",
      "    r2 = np.sqrt((1-mu-x)**2.0 + y**2.0 + z**2.0);\n",
      "    \n",
      "    derivs = [xdot, \n",
      "              ydot,\n",
      "              zdot, \n",
      "              x + 2.0*ydot + (1 - mu)*(-mu - x)/(r1**3.0) + mu*(1 - mu - x)/(r2**3.0),\n",
      "              y - 2.0*xdot - (1 - mu)*y/(r1**3.0) - mu*y/(r2**3.0),\n",
      "              -(1 - mu)*z/(r1**3.0) - mu*z/(r2**3.0)]\n",
      "    \n",
      "    return derivs\n",
      "\n",
      "muArray_H = [0.04]\n",
      "testcases_H = np.array([[0.723268, 0.040000, 0.198019, 1.300177*4.0]]) # x, z, ydot, T\n",
      "\n",
      "testcase = 0\n",
      "mu = muArray_H[testcase]\n",
      "timespan = np.linspace(0, testcases_H[testcase, 3], 2000) # Howell\n",
      "initialstate_H = [testcases_H[testcase, 0], 0, testcases_H[testcase,1], 0, testcases_H[testcase, 2], 0]  # Howell\n",
      "\n",
      "# create a perturbed initial state\n",
      "#initialstate2 = np.zeros(len(initialstate_H))\n",
      "#initialstate2[0:3] = initialstate_H[0:3]\n",
      "#initialstate2[3:6] = [x * 1.001 for x in initialstate_H[3:6]]\n",
      "\n",
      "#print initialstate2"
     ],
     "language": "python",
     "metadata": {},
     "outputs": [
      {
       "name": "stdout",
       "output_type": "stream",
       "stream": "stdout",
       "text": [
        "Once deleted, variables cannot be recovered. Proceed (y/[n])? y\n"
       ]
      },
      {
       "output_type": "stream",
       "stream": "stdout",
       "text": [
        "Populating the interactive namespace from numpy and matplotlib\n"
       ]
      }
     ],
     "prompt_number": 8
    },
    {
     "cell_type": "code",
     "collapsed": false,
     "input": [
      "##\n",
      "\n",
      "''' from the pysce source code at https://github.com/jkitchin/pycse/blob/2c9ff7fe81b0dfb34b3edf87356817312910b799/pycse/PYCSE.py#L78\n",
      "odelay(func, y0, xspan, events, fsolve_args=None, **kwargs):\n",
      "    ode wrapper with events func is callable, with signature func(Y, x)\n",
      "    y0 are the initial conditions xspan is what you want to integrate\n",
      "    over\n",
      "\n",
      "    events is a list of callable functions with signature event(Y, x).\n",
      "    These functions return zero when an event has happened.\n",
      "    \n",
      "    [value, isterminal, direction] = event(Y, x)\n",
      "    value is the value of the event function. When value = 0, an event is  triggered\n",
      "\n",
      "    isterminal = True if the integration is to terminate at a zero of\n",
      "    this event function, otherwise, False.\n",
      "\n",
      "    direction = 0 if all zeros are to be located (the default), +1\n",
      "    if only zeros where the event function is increasing, and -1 if\n",
      "    only zeros where the event function is decreasing.\n",
      "\n",
      "    fsolve_args is a dictionary of options for fsolve\n",
      "    kwargs are any additional options you want to send to odeint.\n",
      "    '''\n",
      "\n",
      "def ForceForwardToNextEvent(inputstate, eventType):\n",
      "    \n",
      "    smallTimeStep = 1.0e-3\n",
      "    TimeOfNextEvent = 0\n",
      "    initialstate = inputstate\n",
      "    \n",
      "    #while (TimeOfNextEvent == 0):  # for testing (runs while loop once)\n",
      "    while (TimeOfNextEvent < smallTimeStep):\n",
      "        \n",
      "        t, statesOverTime, EventTime, EventState, EventIndex = odelay(nonlinearDerivativesFunction, initialstate, timespan, events=[eventType, stop_maxTime])\n",
      "        \n",
      "        print 'len(EventTime) = ', len(EventTime)\n",
      "        \n",
      "        if (len(EventTime) > 0):\n",
      "            TimeOfNextEvent = EventTime[0]\n",
      "            print 'EventTime[0] = ', EventTime[0]\n",
      "        \n",
      "        # If odelay didn't actually step forward, force the state forward a small amount and then try again\n",
      "        if (TimeOfNextEvent < smallTimeStep):\n",
      "            \n",
      "            # take one small step\n",
      "            computeOneStep = integrate.odeint(nonlinearDerivativesFunction, initialstate, [0.0, smallTimeStep])\n",
      "            \n",
      "            initialstate = computeOneStep[1]\n",
      "    \n",
      "    # output\n",
      "    #print 'initialstate = ', initialstate\n",
      "    #print 't = ', t # timestamps corresponding to the output states over time\n",
      "    #print 'statesOverTime = ', statesOverTime\n",
      "    #print 'EventTime = ', EventTime\n",
      "    #print 'EventState = ', EventState\n",
      "    #print 'EventIndex = ', EventIndex   \n",
      "    \n",
      "    return EventTime, EventState\n",
      "\n",
      "def ForceForwardNEvents(inputstate, eventType, nEvents):\n",
      "    \n",
      "    # propagate forward the specified numEventsToLookAhead\n",
      "    eState = np.zeros((1,6))\n",
      "    eState[0] = inputstate\n",
      "    for x in xrange(0, numEventsToLookAhead):\n",
      "        eTime, eState = ForceForwardToNextEvent(inputstate, stop_yEquals0)  \n",
      "        # seems like you can't look ahead more than 2-3 plane crossings without doing deltaV's\n",
      "        \n",
      "    return eTime, eState\n",
      "    \n",
      "\n",
      "# step to abs(y) < 1e-11 (per Howell)\n",
      "#eTime1, eState1 = ForceForwardToNextEvent(initialstate1, stop_yEquals0)\n",
      "#eTime2, eState2 = ForceForwardToNextEvent(eState1[0], stop_yEquals0)\n",
      "\n",
      "# adjust so xdot, zdot are zero (within 1e-8) when y is zero\n",
      "# can adjust: initial x, z, or ydot\n",
      "\n",
      "def FuncToSolve(initialguesses, inputstate, holdXorZ, numEventsToLookAhead):\n",
      "    ''' initialguesses will contain [x and ydot] or [z and ydot], depending on value of holdXorZ. \n",
      "        inputstate will contain the full position and velocity state.\n",
      "        the values inside initialguesses will be adjusted to get perpendicular XZ plane crossings after numEventsToLookAhead.'''\n",
      "    \n",
      "    # really this section of code shouldn't change anything because the initialguesses should already be equal to the appropriate components of the inputstate... but making sure that everything is consistent..\n",
      "    if (holdXorZ == 'X'):\n",
      "        inputstate[2] = initialguesses[0]\n",
      "    elif (holdXorZ == 'Z'):\n",
      "        inputstate[0] = initialguesses[0]\n",
      "    inputstate[4] = initialguesses[1]\n",
      "    \n",
      "    #inputstate[4] = initialguesses\n",
      "        \n",
      "    # propagate forward the specified numEventsToLookAhead\n",
      "    eTime, eState = ForceForwardNEvents(inputstate, stop_yEquals0, numEventsToLookAhead)\n",
      "    \n",
      "    result = [eState[0,3], eState[0,5]]  # Vx, Vz = 0 gives a perpendicular XZ plane crossing\n",
      "    \n",
      "    return result  # fsolve will look for a solution that makes the results = 0\n",
      "\n",
      "\n",
      "def Haloize(inputstate, holdXorZ, numEventsToLookAhead):\n",
      "    \n",
      "    # the 'initialguesses' vector that gets passed to the FuncToSolve has to be the parameters \n",
      "    # that fsolve is allowed to vary in order to get the results to be zero\n",
      "    if (holdXorZ == 'X'):\n",
      "        initialguesses = [inputstate[2], inputstate[4]]  # Z and Ydot\n",
      "    elif (holdXorZ == 'Z'):\n",
      "        initialguesses = [inputstate[0], inputstate[4]]  # X and Ydot\n",
      "        \n",
      "    # try only letting it adjust ydot......\n",
      "    #initialguesses = inputstate[4]\n",
      "    \n",
      "    # refine initial guesses\n",
      "    ''' from fsolve documentation at http://docs.scipy.org/doc/scipy/reference/generated/scipy.optimize.fsolve.html:\n",
      "    scipy.optimize.fsolve(func, x0, args=(), ...)\n",
      "    func: A function that takes at least one (possibly vector) argument.\n",
      "    x0: The starting estimate for the roots of func(x) = 0.\n",
      "    args: Any extra arguments to func. '''\n",
      "    solution = fsolve(FuncToSolve, initialguesses, (inputstate, holdXorZ, numEventsToLookAhead))\n",
      "\n",
      "    # print the update applied to X/Z and Vy\n",
      "    print 'solution = ', solution, 'solution-initialguesses = ', solution-initialguesses_x_ydot  \n",
      "\n",
      "    # TODO: make this work even if the input state isn't at a plane crossing... I guess you would want to adjust the input Vx and Vz if you're not at the plane crossing.......\n",
      "\n",
      "    # copy solution from fsolve into haloState\n",
      "    haloState = inputstate\n",
      "    \n",
      "    if (holdXorZ == 'X'):\n",
      "        haloState[2] = solution[0]\n",
      "    elif (holdXorZ == 'Z'):\n",
      "        haloState[0] = solution[0]\n",
      "    haloState[4] = solution[1]\n",
      "    \n",
      "    #haloState[4] = solution[0]\n",
      "    \n",
      "    return haloState\n",
      "\n",
      "\n",
      "# test case\n",
      "initialguesses_x_ydot = [0.723268, 0.198019] # x, ydot\n",
      "initz = 0.04000\n",
      "\n",
      "initialguesses_x_ydot = [0.723268, 0.198019] # x, ydot\n",
      "initz = 0.050\n",
      "\n",
      "inputstate = [initialguesses_x_ydot[0], 0.0, initz, 0.0, initialguesses_x_ydot[1], 0.0]\n",
      "\n",
      "#inputstate = [0.72311425511821148, 0.0, 0.05, 0.0, 0.20832957653736492, 0.0]  # solution from Z = 0.05\n",
      "inputstate = [0.723, 0.0, 0.05, 0.0, 0.20832957653736492, 0.0]\n",
      "\n",
      "print 'inputstate = ', inputstate\n",
      "\n",
      "\n",
      "# inputs to halo-ization\n",
      "numEventsToLookAhead = 1\n",
      "holdXorZ = 'X'\n",
      "\n",
      "\n",
      "# result from function using initial guesses (what are the Vx and Vz components at the \n",
      "# specified XZ plane crossing when just using the input state?  fsolve will adjust inputs so that this result gets close to zero)\n",
      "eTime, initialGuessResult = ForceForwardNEvents(inputstate, stop_yEquals0, numEventsToLookAhead)  \n",
      "print 'initialGuessResult = ', initialGuessResult\n",
      "\n",
      "# we have the option to hold the X or Z component constant; the other component (X or Z)\n",
      "# and the Ydot will be adjusted to get a halo orbit (perpendicular XZ plane crossings)\n",
      "haloState = Haloize(inputstate, holdXorZ, numEventsToLookAhead)  \n",
      "print 'haloState = ', haloState\n",
      "\n",
      "# result from function using solution (Vx and Vz should be close to zero)\n",
      "eTime, SolutionResult = ForceForwardNEvents(haloState, stop_yEquals0, numEventsToLookAhead)  \n",
      "print 'SolutionResult = ', SolutionResult\n",
      "\n"
     ],
     "language": "python",
     "metadata": {},
     "outputs": [
      {
       "output_type": "stream",
       "stream": "stdout",
       "text": [
        "inputstate =  [0.723, 0.0, 0.05, 0.0, 0.20832957653736492, 0.0]\n",
        "len(EventTime) =  1\n",
        "EventTime[0] =  4.990842963e-17\n",
        "len(EventTime) = "
       ]
      },
      {
       "output_type": "stream",
       "stream": "stdout",
       "text": [
        " 1\n",
        "EventTime[0] =  1.31030655599\n",
        "initialGuessResult =  [[  7.68391465e-01  -1.68051337e-18  -4.42613957e-02  -1.02358403e-02\n",
        "   -2.19197629e-01   8.29576157e-04]]\n",
        "len(EventTime) =  1\n",
        "EventTime[0] =  4.990842963e-17\n",
        "len(EventTime) = "
       ]
      },
      {
       "output_type": "stream",
       "stream": "stdout",
       "text": [
        " 1\n",
        "EventTime[0] =  1.31030655599\n",
        "len(EventTime) =  1\n",
        "EventTime[0] =  4.990842963e-17\n",
        "len(EventTime) = "
       ]
      },
      {
       "output_type": "stream",
       "stream": "stdout",
       "text": [
        " 1\n",
        "EventTime[0] =  1.31030655599\n",
        "len(EventTime) =  1\n",
        "EventTime[0] =  4.990842963e-17\n",
        "len(EventTime) = "
       ]
      },
      {
       "output_type": "stream",
       "stream": "stdout",
       "text": [
        " 1\n",
        "EventTime[0] =  1.31030655599\n",
        "len(EventTime) =  1\n",
        "EventTime[0] =  5.02989746844e-17\n",
        "len(EventTime) = "
       ]
      },
      {
       "output_type": "stream",
       "stream": "stdout",
       "text": [
        " 1\n",
        "EventTime[0] =  1.31030656065\n",
        "len(EventTime) =  1\n",
        "EventTime[0] =  5.01120691554e-17\n",
        "len(EventTime) = "
       ]
      },
      {
       "output_type": "stream",
       "stream": "stdout",
       "text": [
        " 1\n",
        "EventTime[0] =  1.31030653603\n",
        "len(EventTime) =  1\n",
        "EventTime[0] =  2.73573865541e-17\n",
        "len(EventTime) = "
       ]
      },
      {
       "output_type": "stream",
       "stream": "stdout",
       "text": [
        " 1\n",
        "EventTime[0] =  1.30966510681\n",
        "len(EventTime) =  1\n",
        "EventTime[0] =  3.36222594337e-17\n",
        "len(EventTime) = "
       ]
      },
      {
       "output_type": "stream",
       "stream": "stdout",
       "text": [
        " 1\n",
        "EventTime[0] =  1.30386724077\n",
        "len(EventTime) =  1\n",
        "EventTime[0] =  3.0903451217e-17\n",
        "len(EventTime) = "
       ]
      },
      {
       "output_type": "stream",
       "stream": "stdout",
       "text": [
        " 1\n",
        "EventTime[0] =  1.30471219992\n",
        "len(EventTime) =  1\n",
        "EventTime[0] =  2.86489813015e-17\n",
        "len(EventTime) = "
       ]
      },
      {
       "output_type": "stream",
       "stream": "stdout",
       "text": [
        " 1\n",
        "EventTime[0] =  1.30501233073\n",
        "len(EventTime) =  1\n",
        "EventTime[0] =  2.95951776881e-17\n",
        "len(EventTime) = "
       ]
      },
      {
       "output_type": "stream",
       "stream": "stdout",
       "text": [
        " 1\n",
        "EventTime[0] =  1.30501666162\n",
        "len(EventTime) =  1\n",
        "EventTime[0] =  2.91957234681e-17\n",
        "len(EventTime) = "
       ]
      },
      {
       "output_type": "stream",
       "stream": "stdout",
       "text": [
        " 1\n",
        "EventTime[0] =  1.30502218197\n",
        "len(EventTime) =  1\n",
        "EventTime[0] =  2.91641977119e-17\n",
        "len(EventTime) = "
       ]
      },
      {
       "output_type": "stream",
       "stream": "stdout",
       "text": [
        " 1\n",
        "EventTime[0] =  1.30502211143\n",
        "len(EventTime) =  1\n",
        "EventTime[0] =  2.87902009986e-17\n",
        "len(EventTime) = "
       ]
      },
      {
       "output_type": "stream",
       "stream": "stdout",
       "text": [
        " 1\n",
        "EventTime[0] =  1.30502223891\n",
        "len(EventTime) =  1\n",
        "EventTime[0] =  2.86270623203e-17\n",
        "len(EventTime) = "
       ]
      },
      {
       "output_type": "stream",
       "stream": "stdout",
       "text": [
        " 1\n",
        "EventTime[0] =  1.30502221785\n",
        "len(EventTime) =  1\n",
        "EventTime[0] =  2.84224865741e-17\n",
        "len(EventTime) = "
       ]
      },
      {
       "output_type": "stream",
       "stream": "stdout",
       "text": [
        " 1\n",
        "EventTime[0] =  1.305022218\n",
        "len(EventTime) =  1\n",
        "EventTime[0] =  2.87633439962e-17\n",
        "len(EventTime) = "
       ]
      },
      {
       "output_type": "stream",
       "stream": "stdout",
       "text": [
        " 1\n",
        "EventTime[0] =  1.30502221802\n",
        "len(EventTime) =  1\n",
        "EventTime[0] =  2.84481126862e-17\n",
        "len(EventTime) = "
       ]
      },
      {
       "output_type": "stream",
       "stream": "stdout",
       "text": [
        " 1\n",
        "EventTime[0] =  1.30502221801\n",
        "len(EventTime) =  1\n",
        "EventTime[0] =  2.87052864475e-17\n",
        "len(EventTime) = "
       ]
      },
      {
       "output_type": "stream",
       "stream": "stdout",
       "text": [
        " 1\n",
        "EventTime[0] =  1.30502221801\n",
        "len(EventTime) =  1\n",
        "EventTime[0] =  2.86732046042e-17\n",
        "len(EventTime) = "
       ]
      },
      {
       "output_type": "stream",
       "stream": "stdout",
       "text": [
        " 1\n",
        "EventTime[0] =  1.305022218\n",
        "len(EventTime) =  1\n",
        "EventTime[0] =  2.90222570952e-17\n",
        "len(EventTime) = "
       ]
      },
      {
       "output_type": "stream",
       "stream": "stdout",
       "text": [
        " 1\n",
        "EventTime[0] =  1.30502221801\n",
        "solution =  [ 0.05953469  0.21929357] solution-initialguesses =  [-0.66373331  0.02127457]\n",
        "haloState =  [0.723, 0.0, 0.059534690809984636, 0.0, 0.2192935662676847, 0.0]\n",
        "len(EventTime) =  1\n",
        "EventTime[0] =  2.90222570952e-17\n",
        "len(EventTime) = "
       ]
      },
      {
       "output_type": "stream",
       "stream": "stdout",
       "text": [
        " 1\n",
        "EventTime[0] =  1.30502221801\n",
        "SolutionResult =  [[  7.74575619e-01   5.22585447e-17  -5.19243942e-02  -4.38486568e-13\n",
        "   -2.38589670e-01   5.45625828e-14]]\n"
       ]
      }
     ],
     "prompt_number": 28
    },
    {
     "cell_type": "code",
     "collapsed": false,
     "input": [
      "\n",
      "# determine orbit period\n",
      "eTime, eState = ForceForwardToNextEvent(haloState, stop_yEquals0)\n",
      "\n",
      "# propagate for X orbits (eTime[0]*4.0 = 2 orbits)\n",
      "timespan = np.linspace(0.0, eTime[0]*2.0, 2000)\n",
      "\n",
      "statesOverTime = integrate.odeint(nonlinearDerivativesFunction, haloState, timespan)\n",
      "\n",
      "print 'eTime[0] = ', eTime[0]\n"
     ],
     "language": "python",
     "metadata": {},
     "outputs": [
      {
       "output_type": "stream",
       "stream": "stdout",
       "text": [
        "len(EventTime) =  1\n",
        "EventTime[0] =  2.90222570952e-17\n",
        "len(EventTime) = "
       ]
      },
      {
       "output_type": "stream",
       "stream": "stdout",
       "text": [
        " 1\n",
        "EventTime[0] =  1.30502221801\n",
        "eTime[0] =  1.30502221801\n"
       ]
      }
     ],
     "prompt_number": 29
    },
    {
     "cell_type": "code",
     "collapsed": false,
     "input": [
      "\n",
      "x1, y1, z1, xdot1, ydot1, zdot1 = statesOverTime.T\n",
      "\n",
      "# identify x-coordinate corresponding to maximum y-amplitude, \n",
      "#          y-coordinate corresponding to maximum x-amplitude, \n",
      "#          and z-coordinate corresponding to maximum y-amplitude  #y=0\n",
      "center = [x1[y1.argmax()], y1[x1.argmax()], z1[y1.argmax()]]  #np.abs(y1).argmin()]]\n",
      "          \n",
      "print 'center = ', center\n",
      "\n",
      "# plot in RLP\n",
      "figRLP, ((axXZ, axYZ), (axXY, ax3D)) = plt.subplots(2, 2)\n",
      "figRLP.suptitle('Satellite 1 in RLP Frame')\n",
      "figRLP.set_size_inches(10, 10)\n",
      "figRLP.subplots_adjust(hspace=0.2)\n",
      "figRLP.subplots_adjust(wspace=0.5)\n",
      "\n",
      "# XZ Plane\n",
      "axXZ.plot(x1, z1, 'r-')\n",
      "#axXZ.plot(L1[0], L1[2], 'g*', markersize=10)\n",
      "axXZ.plot(center[0], center[2], 'w*', markersize=10)\n",
      "axXZ.set_title('XZ Plane')\n",
      "axXZ.xaxis.set_label_text('X axis')\n",
      "axXZ.yaxis.set_label_text('Z axis')\n",
      "axXZ.set_aspect('equal')\n",
      "\n",
      "# YZ Plane\n",
      "axYZ.plot(y1, z1, 'r-')\n",
      "#axYZ.plot(L1[1], L1[2], 'g*', markersize=10)\n",
      "axYZ.plot(center[1], center[2], 'w*', markersize=10)\n",
      "axYZ.set_title('YZ Plane')\n",
      "axYZ.xaxis.set_label_text('Y axis')\n",
      "axYZ.yaxis.set_label_text('Z axis')\n",
      "axYZ.set_aspect('equal')\n",
      "\n",
      "# XY Plane\n",
      "axXY.plot(x1, y1, 'r-')\n",
      "#axXY.plot(L1[0], L1[1], 'g*', markersize=10)\n",
      "axXY.plot(center[0], center[1], 'w*', markersize=10)\n",
      "axXY.set_title('XY Plane')\n",
      "axXY.xaxis.set_label_text('X axis')\n",
      "axXY.yaxis.set_label_text('Y axis')\n",
      "axXY.set_aspect('equal')\n",
      "\n",
      "# 3D View\n",
      "ax3D.axis('off')\n",
      "ax3D = figRLP.add_subplot(224, projection='3d')\n",
      "ax3D.plot(x1, y1, z1, 'r-')\n",
      "#ax3D.plot([L1[0]], [L1[1]], [L1[2]], 'g*', markersize=10)\n",
      "ax3D.plot([center[0]], [center[1]], [center[2]], 'w*', markersize=10)\n",
      "ax3D.set_title('3D View in RLP Frame')\n",
      "ax3D.xaxis.set_label_text('X axis')\n",
      "ax3D.yaxis.set_label_text('Y axis')\n",
      "ax3D.zaxis.set_label_text('Z axis')\n",
      "#ax3D.set_aspect('equal')\n"
     ],
     "language": "python",
     "metadata": {},
     "outputs": [
      {
       "output_type": "stream",
       "stream": "stdout",
       "text": [
        "center =  [0.75283600205795231, 8.2111914427676971e-05, 0.0052540763274559841]\n"
       ]
      },
      {
       "metadata": {},
       "output_type": "pyout",
       "prompt_number": 30,
       "text": [
        "<matplotlib.text.Text at 0x109c2c7d0>"
       ]
      },
      {
       "metadata": {},
       "output_type": "display_data",
       "png": "[encoded data removed]",
       "text": [
        "<matplotlib.figure.Figure at 0x1099fa250>"
       ]
      }
     ],
     "prompt_number": 30
    },
    {
     "cell_type": "code",
     "collapsed": false,
     "input": [],
     "language": "python",
     "metadata": {},
     "outputs": [],
     "prompt_number": 30
    },
    {
     "cell_type": "code",
     "collapsed": false,
     "input": [],
     "language": "python",
     "metadata": {},
     "outputs": [],
     "prompt_number": 30
    },
    {
     "cell_type": "code",
     "collapsed": false,
     "input": [],
     "language": "python",
     "metadata": {},
     "outputs": [],
     "prompt_number": 30
    }
   ],
   "metadata": {}
  }
 ]
}