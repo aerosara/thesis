{
 "metadata": {
  "name": "",
  "signature": "sha256:0cad566fda33b33dc01ef2ebd5e94b816a371d95ba2879342ca615d3e9fa44cb"
 },
 "nbformat": 3,
 "nbformat_minor": 0,
 "worksheets": [
  {
   "cells": [
    {
     "cell_type": "heading",
     "level": 3,
     "metadata": {},
     "source": [
      "Example from pycse 1"
     ]
    },
    {
     "cell_type": "code",
     "collapsed": false,
     "input": [
      "\n",
      "# copied from http://kitchingroup.cheme.cmu.edu/blog/tag/events/\n",
      "\n",
      "from pycse import odelay\n",
      "import matplotlib.pyplot as plt\n",
      "import numpy as np\n",
      "\n",
      "def ode(Y,x):\n",
      "    y1, y2 = Y\n",
      "    dy1dx = y2\n",
      "    dy2dx = -y1\n",
      "    return [dy1dx, dy2dx]\n",
      "\n",
      "def event1(Y, x):\n",
      "    y1, y2 = Y\n",
      "    value = y2 - (-1.0)\n",
      "    isterminal = True\n",
      "    direction  = 0\n",
      "    return value, isterminal, direction\n",
      "\n",
      "def event2(Y, x):\n",
      "    dy1dx, dy2dx = ode(Y,x)\n",
      "    value = dy1dx - 0.0\n",
      "    isterminal = False\n",
      "    direction = -1  # derivative is decreasing towards a maximum\n",
      "    return value, isterminal, direction\n",
      "\n",
      "Y0 = [2.0, 1.0]\n",
      "xspan = np.linspace(0, 5)\n",
      "X, Y, XE, YE, IE = odelay(ode, Y0, xspan, events=[event1, event2])\n",
      "\n",
      "plt.plot(X, Y)\n",
      "for ie,xe,ye in zip(IE, XE, YE):\n",
      "    if ie == 1: #this is the second event\n",
      "        y1,y2 = ye\n",
      "        plt.plot(xe, y1, 'ro') \n",
      "        \n",
      "plt.legend(['$y_1$', '$y_2$'], loc='best')\n",
      "#plt.savefig('images/odelay-mult-eq.png')\n",
      "plt.show()"
     ],
     "language": "python",
     "metadata": {},
     "outputs": [
      {
       "metadata": {},
       "output_type": "display_data",
       "png": "[encoded data removed]",
       "text": [
        "<matplotlib.figure.Figure at 0x10a5bff50>"
       ]
      }
     ],
     "prompt_number": 35
    },
    {
     "cell_type": "heading",
     "level": 3,
     "metadata": {},
     "source": [
      "Example from pycse 2"
     ]
    },
    {
     "cell_type": "code",
     "collapsed": false,
     "input": [
      "\n",
      "# copied from: http://kitchingroup.cheme.cmu.edu/pycse/pycse.html#sec-10-1-8\n",
      "\n",
      "# 10.1.8 Stopping the integration of an ODE at some condition\n",
      "\n",
      "from pycse import *\n",
      "import numpy as np\n",
      "\n",
      "k = 0.23\n",
      "Ca0 = 2.3\n",
      "\n",
      "def dCadt(Ca, t):\n",
      "    return -k * Ca**2\n",
      "\n",
      "def stop(Ca, t):\n",
      "    isterminal = True\n",
      "    direction = 0\n",
      "    value = 1.0 - Ca\n",
      "    return value, isterminal, direction\n",
      "\n",
      "tspan = np.linspace(0.0, 10.0)\n",
      "\n",
      "t, CA, TE, YE, IE = odelay(dCadt, Ca0, tspan, events=[stop])\n",
      "\n",
      "print 'At t = {0:1.2f} seconds the concentration of A is {1:1.2f} mol/L.'.format(t[-1], float(CA[-1]))"
     ],
     "language": "python",
     "metadata": {},
     "outputs": [
      {
       "output_type": "stream",
       "stream": "stdout",
       "text": [
        "At t = 2.46 seconds the concentration of A is 1.00 mol/L.\n"
       ]
      }
     ],
     "prompt_number": 36
    },
    {
     "cell_type": "heading",
     "level": 3,
     "metadata": {},
     "source": [
      "fsolve example"
     ]
    },
    {
     "cell_type": "code",
     "collapsed": false,
     "input": [
      "from math import cos\n",
      "\n",
      "def func(x):\n",
      "    return x + 2*cos(x)  # finds where this is zero\n",
      "\n",
      "def func2(x):\n",
      "    out = [x[0]*cos(x[1]) - 4]\n",
      "    out.append(x[1]*x[0] - x[1] - 5)\n",
      "    return out  # finds where both elements of this array are zero\n",
      "\n",
      "\n",
      "from scipy.optimize import fsolve\n",
      "x0 = fsolve(func, 0.3)  # initial guess\n",
      "print x0\n",
      "print func(x0)\n",
      "#-1.02986652932\n",
      "\n",
      "x02 = fsolve(func2, [1, 1]) # initial guesses\n",
      "print x02\n",
      "print func2(x02)\n",
      "#[ 6.50409711  0.90841421]"
     ],
     "language": "python",
     "metadata": {},
     "outputs": [
      {
       "output_type": "stream",
       "stream": "stdout",
       "text": [
        "[-1.02986653]\n",
        "[ -6.66133815e-16]\n",
        "[ 6.50409711  0.90841421]\n",
        "[3.7321257195799262e-12, 1.617017630906048e-11]\n"
       ]
      }
     ],
     "prompt_number": 37
    }
   ],
   "metadata": {}
  }
 ]
}