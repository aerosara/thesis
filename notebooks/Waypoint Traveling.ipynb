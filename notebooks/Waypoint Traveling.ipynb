{
 "metadata": {
  "name": "",
  "signature": "sha256:7be80584e6ca4ef5786c69f277d7f6442b96eec1536ce6a975f13e7feb5a27ac"
 },
 "nbformat": 3,
 "nbformat_minor": 0,
 "worksheets": [
  {
   "cells": [
    {
     "cell_type": "code",
     "collapsed": false,
     "input": [
      "%reset\n",
      "%pylab\n",
      "%pdb off\n",
      "\n",
      "# Can do \"%pylab\" or \"%pylab inline\"\n",
      "\n",
      "# Cheat sheet:\n",
      "# np.array([v1, v2])\n",
      "# np.array([rVec[0], iVec[0], cVec[0]])  # makes a 3x3 matrix\n",
      "# np.linspace(v1, v2, numPoints)\n",
      "# np.concatenate(( a1, a2 ))\n",
      "# print shape(waypoints.RIC)\n"
     ],
     "language": "python",
     "metadata": {},
     "outputs": [
      {
       "name": "stdout",
       "output_type": "stream",
       "stream": "stdout",
       "text": [
        "Once deleted, variables cannot be recovered. Proceed (y/[n])? y\n"
       ]
      },
      {
       "output_type": "stream",
       "stream": "stdout",
       "text": [
        "Using matplotlib backend: MacOSX\n",
        "Populating the interactive namespace from numpy and matplotlib\n",
        "Automatic pdb calling has been turned OFF\n"
       ]
      }
     ],
     "prompt_number": 22
    },
    {
     "cell_type": "heading",
     "level": 3,
     "metadata": {},
     "source": [
      "Import libraries"
     ]
    },
    {
     "cell_type": "code",
     "collapsed": false,
     "input": [
      "\n",
      "import numpy as np\n",
      "import pandas as pd\n",
      "import matplotlib.pyplot as plt\n",
      "import scipy.integrate as integrate\n",
      "\n",
      "from IPython.display import display\n",
      "from IPython.core.display import HTML\n",
      "\n",
      "import thesis_functions.utilities\n",
      "from thesis_functions.initial_conditions import initial_condition_sets\n",
      "from thesis_functions.visualization import CreatePlotGrid, SetPlotGridData, ConfigurePlotLegend\n",
      "from thesis_functions.astro import FindOrbitCenter, ComputeLibrationPoints, stop_yEquals0, stop_zEquals0\n",
      "from thesis_functions.astro import ComputeNonlinearDerivs, ComputeRelmoDynamicsMatrix\n",
      "from thesis_functions.astro import odeintNonlinearDerivs, odeintNonlinearDerivsWithLinearRelmoSTM, odeintNonlinearDerivsWithLinearRelmo\n",
      "from thesis_functions.astro import ComputeRequiredVelocity, PropagateSatelliteAndChaser, TargetRequiredVelocity \n",
      "from thesis_functions.astro import PropagateSatellite, ComputeOffsets, ConvertOffset, BuildRICFrame, BuildVNBFrame\n",
      "from thesis_functions.astro import BuildRICFrames, BuildVNBFrames, ConvertOffsets\n",
      "\n",
      "from thesis_functions.major_simulation_components import set_up_target, compute_RLP_properties, set_active_point, plot_full_orbit, plot_initial_condition, define_waypoints_RIC\n",
      "from thesis_functions.major_simulation_components import convert_waypoints_RLP_VNB, travel_waypoints, compute_waypoint_metrics\n"
     ],
     "language": "python",
     "metadata": {},
     "outputs": [],
     "prompt_number": 23
    },
    {
     "cell_type": "heading",
     "level": 3,
     "metadata": {},
     "source": [
      "Set up plots"
     ]
    },
    {
     "cell_type": "code",
     "collapsed": false,
     "input": [
      "\n",
      "# Create plots\n",
      "\n",
      "# Allowed colors:\n",
      "# b: blue\n",
      "# g: green\n",
      "# r: red\n",
      "# c: cyan\n",
      "# m: magenta\n",
      "# y: yellow\n",
      "# k: black\n",
      "# w: white\n",
      "\n",
      "# Allowed axis modes: 'auto' and 'equal'\n",
      "axis_mode = 'auto'\n",
      "\n",
      "# Plots of offset in RLP, RIC, VNB frames\n",
      "axis_array_RLP = CreatePlotGrid('Offset between Satellites 1 and 2 in RLP Frame', 'X', 'Y', 'Z', axis_mode)\n",
      "axis_array_RIC = CreatePlotGrid('Offset between Satellites 1 and 2 in RIC Frame', 'R', 'I', 'C', axis_mode)\n",
      "axis_array_VNB = CreatePlotGrid('Offset between Satellites 1 and 2 in VNB Frame', 'V', 'N', 'B', axis_mode)\n",
      "\n",
      "# create plots showing the target satellite in one full orbit\n",
      "axis_array_RLP_absolute = CreatePlotGrid('Satellite 1 Orbit in RLP Frame', 'X', 'Y', 'Z', 'equal')\n",
      "    "
     ],
     "language": "python",
     "metadata": {},
     "outputs": [],
     "prompt_number": 24
    },
    {
     "cell_type": "code",
     "collapsed": false,
     "input": [
      "\n",
      "first = True \n",
      "\n",
      "def run_waypoint_traveler(halo, clock_angle, approach, timescale, spacing):\n",
      "    \n",
      "    target_initial_state, period, mu = set_up_target(halo, clock_angle, initial_condition_sets, axis_array_RLP, axis_array_RIC, axis_array_VNB)\n",
      "    \n",
      "    RLP_properties = compute_RLP_properties(mu)\n",
      "    \n",
      "    set_active_point(target_initial_state, RLP_properties)\n",
      "    \n",
      "    if (first == True):\n",
      "        plot_full_orbit(target_initial_state, RLP_properties, period, mu, axis_array_RLP_absolute)\n",
      "    \n",
      "    plot_initial_condition(target_initial_state, RLP_properties, axis_array_RLP_absolute)\n",
      "    \n",
      "    #print RLP_properties\n",
      "    \n",
      "    waypoints = define_waypoints_RIC(approach, spacing, timescale, RLP_properties, axis_array_RIC)\n",
      "    \n",
      "    waypoints = convert_waypoints_RLP_VNB(target_initial_state, waypoints, RLP_properties, axis_array_RLP, axis_array_VNB)\n",
      "    \n",
      "    # set_up_plots()\n",
      "    \n",
      "    waypoints, waypoint_velocities = travel_waypoints(target_initial_state, waypoints, RLP_properties, axis_array_RLP, axis_array_RIC, axis_array_VNB)\n",
      "    \n",
      "    waypoint_metrics = compute_waypoint_metrics(halo, clock_angle, approach, timescale, spacing, waypoints, waypoint_velocities, RLP_properties)\n",
      "\n",
      "    # Period of libration point orbit (in nondimensional time units)\n",
      "    #print 'Period of libration point orbit in seconds', period*RLP_properties.time_const\n",
      "\n",
      "    #print 'waypoints.RLP_achieved_analytic_nonlin', display(HTML(waypoints.RLP_achieved_analytic_nonlin.to_html()))\n",
      "    #print 'waypoints.RLP_achieved_targeted_nonlin', display(HTML(waypoints.RLP_achieved_targeted_nonlin.to_html()))\n",
      "\n",
      "    return waypoint_metrics\n"
     ],
     "language": "python",
     "metadata": {},
     "outputs": [],
     "prompt_number": 25
    },
    {
     "cell_type": "heading",
     "level": 3,
     "metadata": {},
     "source": [
      "Test Case Inputs"
     ]
    },
    {
     "cell_type": "code",
     "collapsed": false,
     "input": [
      "\n",
      "#halo_cases = ['small', 'medium', 'large', 'greater']\n",
      "halo_cases = ['EM']\n",
      "#halo_cases = ['small']\n",
      "approach_cases = ['+R', '-R', '+I', '-I', '+C', '-C']\n",
      "\n",
      "# not used yet:\n",
      "timescales = ['fast', 'medium', 'slow']\n",
      "spacings = ['close', 'medium', 'far']\n",
      "\n",
      "# Used for first set of results in paper:\n",
      "halo_cases = ['EM']\n",
      "clock_angles = np.array([0.0])\n",
      "\n",
      "# Used for second set of results in paper:\n",
      "#halo_cases = ['EM']\n",
      "#clock_angles = np.arange(0.0, 360.0, 30.0)\n",
      "\n",
      "halo = halo_cases[0]\n",
      "clock_angle = clock_angles[0]\n",
      "approach = '+I'\n",
      "timescale = timescales[0]\n",
      "spacing = spacings[0]\n",
      "\n",
      "print halo, clock_angle, approach, timescale, spacing\n"
     ],
     "language": "python",
     "metadata": {},
     "outputs": [
      {
       "output_type": "stream",
       "stream": "stdout",
       "text": [
        "EM 0.0 +I fast close\n"
       ]
      }
     ],
     "prompt_number": 26
    },
    {
     "cell_type": "code",
     "collapsed": false,
     "input": [
      "\n",
      "#run_waypoint_traveler(halo, clock_angle, approach, timescale, spacing)\n",
      "\n",
      "\n",
      "#results = pd.DataFrame(...)\n",
      "#for halo, clock_angle, approach, timescale, spacing in configuration:\n",
      "\n",
      "\n",
      "summary_metrics = pd.DataFrame({'halo':           len(clock_angles),\n",
      "                             'clock_angle':    len(clock_angles),\n",
      "                             'approach':       len(clock_angles),\n",
      "                             'timescale':      len(clock_angles),\n",
      "                             'spacing':        len(clock_angles),\n",
      "                             'sum_DV_targeted': len(clock_angles),\n",
      "                             'sum_DV_analytic': len(clock_angles),\n",
      "                             'sum_DV_magnitude_difference': len(clock_angles),\n",
      "                             'sum_DV_angle_difference': len(clock_angles),\n",
      "                             'sum_achieved_position_error_analytic': len(clock_angles),\n",
      "                             'sum_achieved_position_error_targeted': len(clock_angles)},\n",
      "                            index=[clock_angles])\n",
      "\n",
      "for halo in halo_cases:\n",
      "    for clock_angle in clock_angles:\n",
      "\n",
      "        current_results = run_waypoint_traveler(halo, clock_angle, approach, timescale, spacing)   \n",
      "        \n",
      "        # compute and record summary metrics\n",
      "        summary_metrics.halo.loc[clock_angle] = halo\n",
      "        summary_metrics.clock_angle.loc[clock_angle] = clock_angle\n",
      "        summary_metrics.approach.loc[clock_angle] = approach\n",
      "        summary_metrics.timescale.loc[clock_angle] = timescale\n",
      "        summary_metrics.spacing.loc[clock_angle] = spacing\n",
      "        summary_metrics.sum_DV_targeted.loc[clock_angle] = current_results.DV_targeted.sum()\n",
      "        summary_metrics.sum_DV_analytic.loc[clock_angle] = current_results.DV_analytic.sum()\n",
      "        summary_metrics.sum_DV_magnitude_difference.loc[clock_angle] = current_results.DV_magnitude_difference.abs().sum()\n",
      "        summary_metrics.sum_DV_angle_difference.loc[clock_angle] = current_results.DV_angle_difference.sum()\n",
      "        summary_metrics.sum_achieved_position_error_analytic.loc[clock_angle] = current_results.achieved_position_error_analytic.sum()\n",
      "        summary_metrics.sum_achieved_position_error_targeted.loc[clock_angle] = current_results.achieved_position_error_targeted.sum()\n",
      "        \n",
      "        first = False\n",
      "    \n",
      "print 'summary_metrics', display(HTML(summary_metrics.to_html(float_format=lambda x: '{0:.3f}'.format(x))))\n",
      "\n",
      "#    #results = results.append(current_results)\n"
     ],
     "language": "python",
     "metadata": {},
     "outputs": [
      {
       "output_type": "stream",
       "stream": "stdout",
       "text": [
        "summary_metrics"
       ]
      },
      {
       "html": [
        "<table border=\"1\" class=\"dataframe\">\n",
        "  <thead>\n",
        "    <tr style=\"text-align: right;\">\n",
        "      <th></th>\n",
        "      <th>approach</th>\n",
        "      <th>clock_angle</th>\n",
        "      <th>halo</th>\n",
        "      <th>spacing</th>\n",
        "      <th>sum_DV_analytic</th>\n",
        "      <th>sum_DV_angle_difference</th>\n",
        "      <th>sum_DV_magnitude_difference</th>\n",
        "      <th>sum_DV_targeted</th>\n",
        "      <th>sum_achieved_position_error_analytic</th>\n",
        "      <th>sum_achieved_position_error_targeted</th>\n",
        "      <th>timescale</th>\n",
        "    </tr>\n",
        "  </thead>\n",
        "  <tbody>\n",
        "    <tr>\n",
        "      <th>0</th>\n",
        "      <td> +I</td>\n",
        "      <td>0.000</td>\n",
        "      <td> EM</td>\n",
        "      <td> close</td>\n",
        "      <td>0.722</td>\n",
        "      <td>9.410</td>\n",
        "      <td>0.008</td>\n",
        "      <td>0.717</td>\n",
        "      <td>669.709</td>\n",
        "      <td>0.131</td>\n",
        "      <td> fast</td>\n",
        "    </tr>\n",
        "  </tbody>\n",
        "</table>"
       ],
       "metadata": {},
       "output_type": "display_data",
       "text": [
        "<IPython.core.display.HTML at 0x10e31ed50>"
       ]
      },
      {
       "output_type": "stream",
       "stream": "stdout",
       "text": [
        " None\n"
       ]
      }
     ],
     "prompt_number": 27
    },
    {
     "cell_type": "code",
     "collapsed": false,
     "input": [
      "\n",
      "fig3, (ax3) = plt.subplots(1,1);\n",
      "ax3.plot(summary_metrics.clock_angle, summary_metrics.sum_DV_analytic, label='Sum of Linear \\(\\Delta V\\)')\n",
      "ax3.plot(summary_metrics.clock_angle, summary_metrics.sum_DV_targeted, label='Sum of Targeted \\(\\Delta V\\)')\n",
      "#lims = ylim()\n",
      "#ylim([0, lims[1]]) \n",
      "ax3.set_title('Total Rendezvous \\(\\Delta V\\) vs. Clock Angle')\n",
      "ax3.xaxis.set_label_text('Clock Angle (degrees)')\n",
      "ax3.yaxis.set_label_text('Sum of \\(\\Delta V\\) (m/s)')\n",
      "ax3.legend(loc='upper right')\n",
      "\n",
      "#fig4, (ax4) = plt.subplots(1,1);\n",
      "#ax4.plot(summary_metrics.clock_angle, summary_metrics.sum_DV_magnitude_difference)\n",
      "\n",
      "#fig5, (ax5) = plt.subplots(1,1);\n",
      "#ax5.plot(summary_metrics.clock_angle, summary_metrics.sum_achieved_position_error_analytic)\n",
      "#ax5.plot(summary_metrics.clock_angle, summary_metrics.sum_achieved_position_error_targeted)\n",
      "\n",
      "#fig6, (ax6) = plt.subplots(1,1);\n",
      "#ax6.plot(summary_metrics.clock_angle, summary_metrics.sum_DV_angle_difference)\n",
      "\n",
      "#fig3, (ax3) = plt.subplots(1,1);\n",
      "#ax3.plot(summary_metrics.clock_angle, (summary_metrics.sum_DV_analytic-summary_metrics.sum_DV_targeted).abs()/summary_metrics.sum_DV_analytic*100)\n"
     ],
     "language": "python",
     "metadata": {},
     "outputs": [
      {
       "metadata": {},
       "output_type": "pyout",
       "prompt_number": 28,
       "text": [
        "<matplotlib.legend.Legend at 0x10e1c3ed0>"
       ]
      }
     ],
     "prompt_number": 28
    },
    {
     "cell_type": "raw",
     "metadata": {},
     "source": [
      "\n",
      "results.loc[(halo, clock_angle, approach, timescale, spacing)]\n",
      "\n",
      "waypoint_metrics.groupby([\"approach\", \"halo\"]).apply(lambda x: pd.DataFrame({\"foo\": [x.DV_analytic.sum()]}))\n",
      "\n",
      "df = pd.DataFrame({\"bar\": [2,4,6,8]})\n",
      "\n",
      "foo = conditions.groupby(\"halo\").apply(run_simulation)\n",
      "results = conditions.apply(run_simulation)\n"
     ]
    }
   ],
   "metadata": {}
  }
 ]
}