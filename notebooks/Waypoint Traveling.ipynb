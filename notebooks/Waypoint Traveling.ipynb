{
 "metadata": {
  "name": "",
  "signature": "sha256:f163da8ee2e34cd1ec415e2263a2e4d9d5ee536edfc390767339c9a4887185b0"
 },
 "nbformat": 3,
 "nbformat_minor": 0,
 "worksheets": [
  {
   "cells": [
    {
     "cell_type": "code",
     "collapsed": false,
     "input": [
      "%reset\n",
      "%pylab\n",
      "%pdb off\n",
      "\n",
      "# Can do \"%pylab\" or \"%pylab inline\"\n",
      "\n",
      "# Cheat sheet:\n",
      "# np.array([v1, v2])\n",
      "# np.array([rVec[0], iVec[0], cVec[0]])  # makes a 3x3 matrix\n",
      "# np.linspace(v1, v2, numPoints)\n",
      "# np.concatenate(( a1, a2 ))\n",
      "# print shape(waypoints.RIC)\n"
     ],
     "language": "python",
     "metadata": {},
     "outputs": [
      {
       "name": "stdout",
       "output_type": "stream",
       "stream": "stdout",
       "text": [
        "Once deleted, variables cannot be recovered. Proceed (y/[n])? y\n"
       ]
      },
      {
       "output_type": "stream",
       "stream": "stdout",
       "text": [
        "Using matplotlib backend: MacOSX\n",
        "Populating the interactive namespace from numpy and matplotlib\n",
        "Automatic pdb calling has been turned OFF\n"
       ]
      }
     ],
     "prompt_number": 1
    },
    {
     "cell_type": "heading",
     "level": 3,
     "metadata": {},
     "source": [
      "Import libraries"
     ]
    },
    {
     "cell_type": "code",
     "collapsed": false,
     "input": [
      "\n",
      "import numpy as np\n",
      "import pandas as pd\n",
      "import scipy.integrate as integrate\n",
      "\n",
      "from IPython.display import display\n",
      "from IPython.core.display import HTML\n",
      "\n",
      "import thesis_functions.utilities\n",
      "from thesis_functions.initial_conditions import initial_condition_sets\n",
      "from thesis_functions.visualization import CreatePlotGrid, SetPlotGridData, ConfigurePlotLegend\n",
      "from thesis_functions.astro import FindOrbitCenter, ComputeLibrationPoints, stop_yEquals0, stop_zEquals0\n",
      "from thesis_functions.astro import ComputeNonlinearDerivs, ComputeRelmoDynamicsMatrix\n",
      "from thesis_functions.astro import odeintNonlinearDerivs, odeintNonlinearDerivsWithLinearRelmoSTM, odeintNonlinearDerivsWithLinearRelmo\n",
      "from thesis_functions.astro import ComputeRequiredVelocity, PropagateSatelliteAndChaser, TargetRequiredVelocity \n",
      "from thesis_functions.astro import PropagateSatellite, ComputeOffsets, ConvertOffset, BuildRICFrame, BuildVNBFrame\n",
      "from thesis_functions.astro import BuildRICFrames, BuildVNBFrames, ConvertOffsets\n",
      "\n",
      "from thesis_functions.major_simulation_components import set_up_target, compute_RLP_properties, plot_full_orbit, define_waypoints_RIC\n",
      "from thesis_functions.major_simulation_components import convert_waypoints_RLP_VNB, travel_waypoints, compute_waypoint_metrics\n"
     ],
     "language": "python",
     "metadata": {},
     "outputs": [],
     "prompt_number": 2
    },
    {
     "cell_type": "heading",
     "level": 3,
     "metadata": {},
     "source": [
      "Set up plots"
     ]
    },
    {
     "cell_type": "code",
     "collapsed": false,
     "input": [
      "\n",
      "# Create plots\n",
      "\n",
      "# Allowed colors:\n",
      "# b: blue\n",
      "# g: green\n",
      "# r: red\n",
      "# c: cyan\n",
      "# m: magenta\n",
      "# y: yellow\n",
      "# k: black\n",
      "# w: white\n",
      "\n",
      "# Allowed axis modes: 'auto' and 'equal'\n",
      "axis_mode = 'auto'\n",
      "\n",
      "# Plots of offset in RLP, RIC, VNB frames\n",
      "axis_array_RLP = CreatePlotGrid('Offset between Satellites 1 and 2 in RLP Frame', 'X', 'Y', 'Z', axis_mode)\n",
      "axis_array_RIC = CreatePlotGrid('Offset between Satellites 1 and 2 in RIC Frame', 'R', 'I', 'C', axis_mode)\n",
      "axis_array_VNB = CreatePlotGrid('Offset between Satellites 1 and 2 in VNB Frame', 'V', 'N', 'B', axis_mode)\n"
     ],
     "language": "python",
     "metadata": {},
     "outputs": [],
     "prompt_number": 3
    },
    {
     "cell_type": "code",
     "collapsed": false,
     "input": [
      "\n",
      "def run_waypoint_traveler(halo, clock_angle, approach, timescale, spacing):\n",
      "    \n",
      "    target_initial_state, period, mu = set_up_target(halo, clock_angle, initial_condition_sets)\n",
      "    \n",
      "    RLP_properties = compute_RLP_properties(target_initial_state, mu)\n",
      "    \n",
      "    plot_full_orbit(target_initial_state, RLP_properties, period, mu)\n",
      "    \n",
      "    print RLP_properties\n",
      "    \n",
      "    waypoints = define_waypoints_RIC(approach, spacing, timescale, RLP_properties, axis_array_RIC)\n",
      "    \n",
      "    waypoints = convert_waypoints_RLP_VNB(target_initial_state, waypoints, RLP_properties, axis_array_RLP, axis_array_VNB)\n",
      "    \n",
      "    # set_up_plots()\n",
      "    \n",
      "    waypoints, waypoint_velocities = travel_waypoints(target_initial_state, waypoints, RLP_properties, axis_array_RLP, axis_array_RIC, axis_array_VNB)\n",
      "    \n",
      "    waypoint_metrics = compute_waypoint_metrics(halo, clock_angle, approach, timescale, spacing, waypoints, waypoint_velocities, RLP_properties)\n",
      "\n",
      "    # Period of libration point orbit (in nondimensional time units)\n",
      "    #print 'Period of libration point orbit in seconds', period*RLP_properties.time_const\n",
      "\n",
      "    #print 'waypoints.RLP_achieved_analytic_nonlin', display(HTML(waypoints.RLP_achieved_analytic_nonlin.to_html()))\n",
      "    #print 'waypoints.RLP_achieved_targeted_nonlin', display(HTML(waypoints.RLP_achieved_targeted_nonlin.to_html()))\n",
      "\n",
      "    return waypoint_metrics\n"
     ],
     "language": "python",
     "metadata": {},
     "outputs": [],
     "prompt_number": 4
    },
    {
     "cell_type": "heading",
     "level": 3,
     "metadata": {},
     "source": [
      "Test Case Inputs"
     ]
    },
    {
     "cell_type": "code",
     "collapsed": false,
     "input": [
      "\n",
      "#halo_cases = ['small', 'medium', 'large', 'greater']\n",
      "halo_cases = ['EM']\n",
      "#halo_cases = ['small']\n",
      "#clock_angles = np.arange(0.0, 360.0, 10.0)\n",
      "#clock_angles = np.arange(0.0, 360.0, 30.0)\n",
      "clock_angles = np.array([0.0])\n",
      "\n",
      "# not used yet:\n",
      "approach_cases = ['+R', '-R', '+I', '-I', '+C', '-C']\n",
      "timescales = ['fast', 'medium', 'slow']\n",
      "spacings = ['close', 'medium', 'far']\n",
      "\n",
      "halo = halo_cases[0]\n",
      "clock_angle = clock_angles[0]\n",
      "approach = approach_cases[0]\n",
      "timescale = timescales[0]\n",
      "spacing = spacings[0]\n",
      "\n",
      "print halo, clock_angle, approach, timescale, spacing\n"
     ],
     "language": "python",
     "metadata": {},
     "outputs": [
      {
       "output_type": "stream",
       "stream": "stdout",
       "text": [
        "EM 0.0 +R fast close\n"
       ]
      }
     ],
     "prompt_number": 5
    },
    {
     "cell_type": "code",
     "collapsed": false,
     "input": [
      "\n",
      "#run_waypoint_traveler(halo, clock_angle, approach, timescale, spacing)\n",
      "\n",
      "\n",
      "#results = pd.DataFrame(...)\n",
      "#for halo, clock_angle, approach, timescale, spacing in configuration:\n",
      "\n",
      "for halo in halo_cases:\n",
      "    for clock_angle in clock_angles:\n",
      "\n",
      "        current_results = run_waypoint_traveler(halo, clock_angle, approach, timescale, spacing)    \n",
      "#    #results = results.append(current_results)\n"
     ],
     "language": "python",
     "metadata": {},
     "outputs": [
      {
       "output_type": "stream",
       "stream": "stdout",
       "text": [
        "initial_condition_sets: Barbee\n"
       ]
      },
      {
       "html": [
        "<table border=\"1\" class=\"dataframe\">\n",
        "  <thead>\n",
        "    <tr style=\"text-align: right;\">\n",
        "      <th></th>\n",
        "      <th>mu</th>\n",
        "      <th>t</th>\n",
        "      <th>x</th>\n",
        "      <th>y_dot</th>\n",
        "      <th>z</th>\n",
        "    </tr>\n",
        "    <tr>\n",
        "      <th>test_case</th>\n",
        "      <th></th>\n",
        "      <th></th>\n",
        "      <th></th>\n",
        "      <th></th>\n",
        "      <th></th>\n",
        "    </tr>\n",
        "  </thead>\n",
        "  <tbody>\n",
        "    <tr>\n",
        "      <th>1</th>\n",
        "      <td> 0.012277</td>\n",
        "      <td> 2.791013</td>\n",
        "      <td> 0.862307</td>\n",
        "      <td>-0.187079</td>\n",
        "      <td> 0.000000</td>\n",
        "    </tr>\n",
        "    <tr>\n",
        "      <th>2</th>\n",
        "      <td> 0.000003</td>\n",
        "      <td> 3.094142</td>\n",
        "      <td> 1.008170</td>\n",
        "      <td> 0.010500</td>\n",
        "      <td> 0.001638</td>\n",
        "    </tr>\n",
        "    <tr>\n",
        "      <th>3</th>\n",
        "      <td> 0.000003</td>\n",
        "      <td> 3.094142</td>\n",
        "      <td> 1.007769</td>\n",
        "      <td> 0.011935</td>\n",
        "      <td> 0.002340</td>\n",
        "    </tr>\n",
        "    <tr>\n",
        "      <th>4</th>\n",
        "      <td> 0.000003</td>\n",
        "      <td> 3.094142</td>\n",
        "      <td> 1.007602</td>\n",
        "      <td> 0.012386</td>\n",
        "      <td> 0.002674</td>\n",
        "    </tr>\n",
        "    <tr>\n",
        "      <th>5</th>\n",
        "      <td> 0.000003</td>\n",
        "      <td> 3.094142</td>\n",
        "      <td> 1.007334</td>\n",
        "      <td> 0.013160</td>\n",
        "      <td> 0.003075</td>\n",
        "    </tr>\n",
        "  </tbody>\n",
        "</table>"
       ],
       "metadata": {},
       "output_type": "display_data",
       "text": [
        "<IPython.core.display.HTML at 0x107a2d310>"
       ]
      },
      {
       "output_type": "stream",
       "stream": "stdout",
       "text": [
        "None\n"
       ]
      },
      {
       "ename": "AttributeError",
       "evalue": "'numpy.float64' object has no attribute 'values'",
       "output_type": "pyerr",
       "traceback": [
        "\u001b[0;31m---------------------------------------------------------------------------\u001b[0m\n\u001b[0;31mAttributeError\u001b[0m                            Traceback (most recent call last)",
        "\u001b[0;32m<ipython-input-6-00a2f92d79b3>\u001b[0m in \u001b[0;36m<module>\u001b[0;34m()\u001b[0m\n\u001b[1;32m      9\u001b[0m     \u001b[0;32mfor\u001b[0m \u001b[0mclock_angle\u001b[0m \u001b[0;32min\u001b[0m \u001b[0mclock_angles\u001b[0m\u001b[0;34m:\u001b[0m\u001b[0;34m\u001b[0m\u001b[0m\n\u001b[1;32m     10\u001b[0m \u001b[0;34m\u001b[0m\u001b[0m\n\u001b[0;32m---> 11\u001b[0;31m         \u001b[0mcurrent_results\u001b[0m \u001b[0;34m=\u001b[0m \u001b[0mrun_waypoint_traveler\u001b[0m\u001b[0;34m(\u001b[0m\u001b[0mhalo\u001b[0m\u001b[0;34m,\u001b[0m \u001b[0mclock_angle\u001b[0m\u001b[0;34m,\u001b[0m \u001b[0mapproach\u001b[0m\u001b[0;34m,\u001b[0m \u001b[0mtimescale\u001b[0m\u001b[0;34m,\u001b[0m \u001b[0mspacing\u001b[0m\u001b[0;34m)\u001b[0m\u001b[0;34m\u001b[0m\u001b[0m\n\u001b[0m\u001b[1;32m     12\u001b[0m \u001b[0;31m#    #results = results.append(current_results)\u001b[0m\u001b[0;34m\u001b[0m\u001b[0;34m\u001b[0m\u001b[0m\n",
        "\u001b[0;32m<ipython-input-4-9f6f2e160c96>\u001b[0m in \u001b[0;36mrun_waypoint_traveler\u001b[0;34m(halo, clock_angle, approach, timescale, spacing)\u001b[0m\n\u001b[1;32m      6\u001b[0m     \u001b[0mRLP_properties\u001b[0m \u001b[0;34m=\u001b[0m \u001b[0mcompute_RLP_properties\u001b[0m\u001b[0;34m(\u001b[0m\u001b[0mtarget_initial_state\u001b[0m\u001b[0;34m,\u001b[0m \u001b[0mmu\u001b[0m\u001b[0;34m)\u001b[0m\u001b[0;34m\u001b[0m\u001b[0m\n\u001b[1;32m      7\u001b[0m \u001b[0;34m\u001b[0m\u001b[0m\n\u001b[0;32m----> 8\u001b[0;31m     \u001b[0mplot_full_orbit\u001b[0m\u001b[0;34m(\u001b[0m\u001b[0mtarget_initial_state\u001b[0m\u001b[0;34m,\u001b[0m \u001b[0mRLP_properties\u001b[0m\u001b[0;34m,\u001b[0m \u001b[0mperiod\u001b[0m\u001b[0;34m,\u001b[0m \u001b[0mmu\u001b[0m\u001b[0;34m)\u001b[0m\u001b[0;34m\u001b[0m\u001b[0m\n\u001b[0m\u001b[1;32m      9\u001b[0m \u001b[0;34m\u001b[0m\u001b[0m\n\u001b[1;32m     10\u001b[0m     \u001b[0;32mprint\u001b[0m \u001b[0mRLP_properties\u001b[0m\u001b[0;34m\u001b[0m\u001b[0m\n",
        "\u001b[0;32m/Users/sara/github/thesis/notebooks/thesis_functions/major_simulation_components.py\u001b[0m in \u001b[0;36mplot_full_orbit\u001b[0;34m(target_initial_state, RLP_properties, period, mu)\u001b[0m\n\u001b[1;32m    168\u001b[0m         'z':     RLP_properties.L1[2]})\n\u001b[1;32m    169\u001b[0m \u001b[0;34m\u001b[0m\u001b[0m\n\u001b[0;32m--> 170\u001b[0;31m     \u001b[0mSetPlotGridData\u001b[0m\u001b[0;34m(\u001b[0m\u001b[0maxis_array_RLP_absolute\u001b[0m\u001b[0;34m,\u001b[0m \u001b[0mL1_point\u001b[0m\u001b[0;34m*\u001b[0m\u001b[0mRLP_properties\u001b[0m\u001b[0;34m.\u001b[0m\u001b[0mr12\u001b[0m\u001b[0;34m,\u001b[0m \u001b[0;34m'points'\u001b[0m\u001b[0;34m,\u001b[0m \u001b[0;34m'k'\u001b[0m\u001b[0;34m,\u001b[0m \u001b[0;34m'L1'\u001b[0m\u001b[0;34m)\u001b[0m\u001b[0;34m\u001b[0m\u001b[0m\n\u001b[0m\u001b[1;32m    171\u001b[0m \u001b[0;34m\u001b[0m\u001b[0m\n\u001b[1;32m    172\u001b[0m     \u001b[0;32mreturn\u001b[0m\u001b[0;34m\u001b[0m\u001b[0m\n",
        "\u001b[0;32m/Users/sara/github/thesis/notebooks/thesis_functions/visualization.pyc\u001b[0m in \u001b[0;36mSetPlotGridData\u001b[0;34m(axis_array, data, style, color, label)\u001b[0m\n\u001b[1;32m    113\u001b[0m     \u001b[0maxYZ\u001b[0m\u001b[0;34m.\u001b[0m\u001b[0mplot\u001b[0m\u001b[0;34m(\u001b[0m\u001b[0mdata\u001b[0m\u001b[0;34m.\u001b[0m\u001b[0my\u001b[0m\u001b[0;34m,\u001b[0m \u001b[0mdata\u001b[0m\u001b[0;34m.\u001b[0m\u001b[0mz\u001b[0m\u001b[0;34m,\u001b[0m \u001b[0mmarkertype\u001b[0m\u001b[0;34m,\u001b[0m \u001b[0mmarkersize\u001b[0m\u001b[0;34m=\u001b[0m\u001b[0mmarkersize\u001b[0m\u001b[0;34m,\u001b[0m \u001b[0mcolor\u001b[0m\u001b[0;34m=\u001b[0m\u001b[0mcolor\u001b[0m\u001b[0;34m)\u001b[0m\u001b[0;34m\u001b[0m\u001b[0m\n\u001b[1;32m    114\u001b[0m     \u001b[0maxXY\u001b[0m\u001b[0;34m.\u001b[0m\u001b[0mplot\u001b[0m\u001b[0;34m(\u001b[0m\u001b[0mdata\u001b[0m\u001b[0;34m.\u001b[0m\u001b[0mx\u001b[0m\u001b[0;34m,\u001b[0m \u001b[0mdata\u001b[0m\u001b[0;34m.\u001b[0m\u001b[0my\u001b[0m\u001b[0;34m,\u001b[0m \u001b[0mmarkertype\u001b[0m\u001b[0;34m,\u001b[0m \u001b[0mmarkersize\u001b[0m\u001b[0;34m=\u001b[0m\u001b[0mmarkersize\u001b[0m\u001b[0;34m,\u001b[0m \u001b[0mcolor\u001b[0m\u001b[0;34m=\u001b[0m\u001b[0mcolor\u001b[0m\u001b[0;34m)\u001b[0m\u001b[0;34m\u001b[0m\u001b[0m\n\u001b[0;32m--> 115\u001b[0;31m     \u001b[0max3D\u001b[0m\u001b[0;34m.\u001b[0m\u001b[0mplot\u001b[0m\u001b[0;34m(\u001b[0m\u001b[0mdata\u001b[0m\u001b[0;34m.\u001b[0m\u001b[0mx\u001b[0m\u001b[0;34m.\u001b[0m\u001b[0mvalues\u001b[0m\u001b[0;34m,\u001b[0m \u001b[0mdata\u001b[0m\u001b[0;34m.\u001b[0m\u001b[0my\u001b[0m\u001b[0;34m.\u001b[0m\u001b[0mvalues\u001b[0m\u001b[0;34m,\u001b[0m \u001b[0mdata\u001b[0m\u001b[0;34m.\u001b[0m\u001b[0mz\u001b[0m\u001b[0;34m.\u001b[0m\u001b[0mvalues\u001b[0m\u001b[0;34m,\u001b[0m \u001b[0mmarkertype\u001b[0m\u001b[0;34m,\u001b[0m \u001b[0mmarkersize\u001b[0m\u001b[0;34m=\u001b[0m\u001b[0mmarkersize\u001b[0m\u001b[0;34m,\u001b[0m \u001b[0mcolor\u001b[0m\u001b[0;34m=\u001b[0m\u001b[0mcolor\u001b[0m\u001b[0;34m)\u001b[0m\u001b[0;34m\u001b[0m\u001b[0m\n\u001b[0m\u001b[1;32m    116\u001b[0m \u001b[0;34m\u001b[0m\u001b[0m\n\u001b[1;32m    117\u001b[0m \u001b[0;32mdef\u001b[0m \u001b[0mConfigurePlotLegend\u001b[0m\u001b[0;34m(\u001b[0m\u001b[0maxis_array\u001b[0m\u001b[0;34m)\u001b[0m\u001b[0;34m:\u001b[0m\u001b[0;34m\u001b[0m\u001b[0m\n",
        "\u001b[0;31mAttributeError\u001b[0m: 'numpy.float64' object has no attribute 'values'"
       ]
      }
     ],
     "prompt_number": 6
    },
    {
     "cell_type": "code",
     "collapsed": false,
     "input": [],
     "language": "python",
     "metadata": {},
     "outputs": []
    },
    {
     "cell_type": "raw",
     "metadata": {},
     "source": [
      "\n",
      "results.loc[(halo, clock_angle, approach, timescale, spacing)]\n",
      "\n",
      "waypoint_metrics.groupby([\"approach\", \"halo\"]).apply(lambda x: pd.DataFrame({\"foo\": [x.DV_analytic.sum()]}))\n",
      "\n",
      "df = pd.DataFrame({\"bar\": [2,4,6,8]})\n",
      "\n",
      "foo = conditions.groupby(\"halo\").apply(run_simulation)\n",
      "results = conditions.apply(run_simulation)\n"
     ]
    }
   ],
   "metadata": {}
  }
 ]
}