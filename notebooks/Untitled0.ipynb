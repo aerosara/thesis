{
 "metadata": {
  "name": ""
 },
 "nbformat": 3,
 "nbformat_minor": 0,
 "worksheets": [
  {
   "cells": [
    {
     "cell_type": "code",
     "collapsed": false,
     "input": [
      "import numpy as np\n",
      "from scipy.integrate import ode\n",
      "from matplotlib.pyplot import *\n",
      "\n",
      "def dfdt(t, f, a,b,c,d):\n",
      "     x = f[0]\n",
      "     y = f[1]\n",
      "     dxdt = np.sin(a*x + b*y)\n",
      "     dydt = np.cos(c*x + d*y)\n",
      "     return [dxdt, dydt]\n",
      "\n",
      "f0 = [1., 0.]\n",
      "a = 1.0\n",
      "b = -2.0\n",
      "c = -1.0\n",
      "d = 1.0\n",
      "\n",
      "t = [0.0]\n",
      "dt = 0.1\n",
      "f = [f0]\n",
      "result = f[0][0]\n",
      "solver = ode(dfdt)\n",
      "solver.set_initial_value(f0,t[0])\n",
      "solver.set_f_params(a,b,c,d)\n",
      "while solver.successful() and result < 4.0 and t[-1]<100.0:\n",
      "     t.append(t[-1]+dt)\n",
      "     solver.integrate(t[-1])\n",
      "     f.append(solver.y)\n",
      "     result = f[-1][0]"
     ],
     "language": "python",
     "metadata": {},
     "outputs": [],
     "prompt_number": 1
    },
    {
     "cell_type": "code",
     "collapsed": false,
     "input": [],
     "language": "python",
     "metadata": {},
     "outputs": []
    }
   ],
   "metadata": {}
  }
 ]
}