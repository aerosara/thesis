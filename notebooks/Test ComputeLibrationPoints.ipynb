{
 "metadata": {
  "name": "",
  "signature": "sha256:cf4e3e66e7831ebbcc7edf87e8a10955fae2531b5adc8170d583a36eef989243"
 },
 "nbformat": 3,
 "nbformat_minor": 0,
 "worksheets": [
  {
   "cells": [
    {
     "cell_type": "code",
     "collapsed": false,
     "input": [
      "\n",
      "import numpy as np\n",
      "\n",
      "from thesis_functions.astro import ComputeLibrationPoints\n",
      "\n",
      "\n",
      "# Inputs: m1 = mass of larger body, \n",
      "#         m2 = mass of smaller body, \n",
      "#         r12 = distance from m1 to m2\n",
      "#         M = Total mass of the system\n",
      "m1 = 1.989e30;        # Sun\n",
      "m2 = 5.97219e24;      # Earth\n",
      "#m2 = 7.34767309e22;  # Moon\n",
      "r12 = 149600000.0;    # Sun-to-Earth\n",
      "M = m1 + m2;\n",
      "\n",
      "# Gravitational constant G = 1 in nondimensional units\n",
      "G = 6.67384e-11;  # m3 kg-1 s-2\n",
      "\n",
      "# mu = Gravitational parameter = GM\n",
      "# For nondimensional computations, mu = M2/M\n",
      "mu = m2/M;\n",
      "\n",
      "# Angular rotation rate of system:\n",
      "omega = np.sqrt(G*M/(r12**3.0));\n",
      "\n",
      "print m1, m2, r12, M, mu;\n",
      "\n",
      "# Compute Libration Points and positions of primary bodies\n",
      "X1, X2, L1, L2, L3, L4, L5 = ComputeLibrationPoints(mu)\n",
      "\n",
      "# To re-dimensionalize, multiply all distances by r12\n",
      "print 'X1', X1;\n",
      "print 'X1', X1*r12;\n",
      "print 'X2', X2;\n",
      "print 'X2', X2*r12;\n",
      "print 'L1', L1;\n",
      "print 'L1', L1*r12;\n",
      "print 'L2', L2;\n",
      "print 'L2', L2*r12;\n",
      "print 'L3', L3;\n",
      "print 'L3', L3*r12;\n",
      "print 'L4', L4;\n",
      "print 'L4', L4*r12;\n",
      "print 'L5', L5;\n",
      "print 'L5', L5*r12;\n"
     ],
     "language": "python",
     "metadata": {},
     "outputs": [
      {
       "output_type": "stream",
       "stream": "stdout",
       "text": [
        "1.989e+30 5.97219e+24 149600000.0 1.98900597219e+30 3.0026003358e-06\n",
        "X1 [ -3.00260034e-06   0.00000000e+00   0.00000000e+00]\n",
        "X1 [-449.18901024    0.            0.        ]\n",
        "X2 [ 0.999997  0.        0.      ]\n",
        "X2 [  1.49599551e+08   0.00000000e+00   0.00000000e+00]\n",
        "L1 [ 0.99002757  0.          0.        ]\n",
        "L1 [  1.48108124e+08   0.00000000e+00   0.00000000e+00]\n",
        "L2 [ 1.01003313  0.          0.        ]\n",
        "L2 [  1.51100957e+08   0.00000000e+00   0.00000000e+00]\n",
        "L3 [-1.00000125  0.          0.        ]\n",
        "L3 [ -1.49600187e+08   0.00000000e+00   0.00000000e+00]\n",
        "L4 [ 0.499997   0.8660254  0.       ]\n",
        "L4 [  7.47995508e+07   1.29557400e+08   0.00000000e+00]\n",
        "L5 [ 0.499997  -0.8660254  0.       ]\n",
        "L5 [  7.47995508e+07  -1.29557400e+08   0.00000000e+00]\n"
       ]
      }
     ],
     "prompt_number": 8
    },
    {
     "cell_type": "code",
     "collapsed": false,
     "input": [
      "\n",
      "# Earth/Moon Test\n",
      "\n",
      "m1 = 5.97219e24;      # Earth\n",
      "m2 = 7.34767309e22;   # Moon\n",
      "r12 = 384400;\n",
      "mu = 0.012277471;\n",
      "\n",
      "# Compute Libration Points and positions of primary bodies\n",
      "X1, X2, L1, L2, L3, L4, L5 = ComputeLibrationPoints(mu)\n",
      "\n",
      "print 'X1', X1;\n",
      "print 'X2', X2;\n",
      "print 'L1', L1;\n",
      "print 'L2', L2;\n",
      "print 'L3', L3;\n",
      "print 'L4', L4;\n",
      "print 'L5', L5;\n",
      "\n",
      "# analytic approximation from wikipedia\n",
      "test = r12*(m2/(3.0*m1))**(1.0/3.0)\n",
      "\n",
      "print test\n",
      "print X2[0] - test/r12\n",
      "print X2[0] + test/r12"
     ],
     "language": "python",
     "metadata": {},
     "outputs": [
      {
       "output_type": "stream",
       "stream": "stdout",
       "text": [
        "X1 [-0.01227747  0.          0.        ]\n",
        "X2 [ 0.98772253  0.          0.        ]\n",
        "L1 [ 0.83629259  0.          0.        ]\n",
        "L2 [ 1.15616817  0.          0.        ]\n",
        "L3 [-1.00511551  0.          0.        ]\n",
        "L4 [ 0.48772253  0.8660254   0.        ]\n",
        "L5 [ 0.48772253 -0.8660254   0.        ]\n",
        "61529.2607579\n",
        "0.827656814229\n",
        "1.14778824377\n"
       ]
      }
     ],
     "prompt_number": 9
    },
    {
     "cell_type": "code",
     "collapsed": false,
     "input": [
      "\n",
      "\n",
      "# dictionary test\n",
      "\n",
      "Waypoints = dict();\n",
      "Waypoints[0] = {'t': 0.0,\n",
      "                'r': [20.0, 0.0, 0.0]};\n",
      "Waypoints[1] = {'t': 60.0,\n",
      "                'r': [10.0, 0.0, 0.0]};\n",
      "\n",
      "print Waypoints[0]['r'][0]\n"
     ],
     "language": "python",
     "metadata": {},
     "outputs": [
      {
       "output_type": "stream",
       "stream": "stdout",
       "text": [
        "20.0\n"
       ]
      }
     ],
     "prompt_number": 10
    },
    {
     "cell_type": "code",
     "collapsed": false,
     "input": [
      "# set up 3x3 identity matrix and zeroes matrix\n",
      "I3 = np.eye(3)\n",
      "Z3 = np.zeros((3,3))\n",
      "print I3\n",
      "print Z3\n",
      "test = np.array([[1,2,3],[4,5,6]])\n",
      "print test\n",
      "A = np.vstack([np.hstack([Z3, I3]),\n",
      "               np.hstack([I3, Z3])])\n",
      "print A"
     ],
     "language": "python",
     "metadata": {},
     "outputs": [
      {
       "output_type": "stream",
       "stream": "stdout",
       "text": [
        "[[ 1.  0.  0.]\n",
        " [ 0.  1.  0.]\n",
        " [ 0.  0.  1.]]\n",
        "[[ 0.  0.  0.]\n",
        " [ 0.  0.  0.]\n",
        " [ 0.  0.  0.]]\n",
        "[[1 2 3]\n",
        " [4 5 6]]\n",
        "[[ 0.  0.  0.  1.  0.  0.]\n",
        " [ 0.  0.  0.  0.  1.  0.]\n",
        " [ 0.  0.  0.  0.  0.  1.]\n",
        " [ 1.  0.  0.  0.  0.  0.]\n",
        " [ 0.  1.  0.  0.  0.  0.]\n",
        " [ 0.  0.  1.  0.  0.  0.]]\n"
       ]
      }
     ],
     "prompt_number": 25
    },
    {
     "cell_type": "code",
     "collapsed": false,
     "input": [
      "a = np.array([1, 2, 3, 4, 5, 6, 7, 8, 9, 10, 1, 2, 3, 4, 5, 6, 7, 8, 9, 10, 1, 2, 3, 4, 5, 6, 7, 8, 9, 10, 1, 2, 3, 4, 5, 6, 7, 8, 9, 10, 1, 2, 3, 4, 5, 6])\n",
      "\n",
      "b = a[0:3]\n",
      "\n",
      "c = np.array([a[0:3],\n",
      "              a[3:6],\n",
      "              a[6:9]])\n",
      "\n",
      "c = a[0:9].reshape(3,3)\n",
      "\n",
      "print a\n",
      "print b\n",
      "print c\n",
      "\n",
      "d = np.dot(c, c)\n",
      "\n",
      "print len(d[0])\n",
      "\n",
      "print d\n",
      "\n",
      "print d.reshape(1,9)\n",
      "print d.reshape(9,1)\n",
      "\n",
      "Phi = a[6:42].reshape(6,6)\n",
      "\n",
      "print Phi\n",
      "\n",
      "print d.reshape(1,9)[0]\n",
      "\n",
      "e = np.concatenate((b, d.reshape(1,9)[0]))\n",
      "\n",
      "print e"
     ],
     "language": "python",
     "metadata": {},
     "outputs": [
      {
       "output_type": "stream",
       "stream": "stdout",
       "text": [
        "[ 1  2  3  4  5  6  7  8  9 10  1  2  3  4  5  6  7  8  9 10  1  2  3  4  5\n",
        "  6  7  8  9 10  1  2  3  4  5  6  7  8  9 10  1  2  3  4  5  6]\n",
        "[1 2 3]\n",
        "[[1 2 3]\n",
        " [4 5 6]\n",
        " [7 8 9]]\n",
        "3\n",
        "[[ 30  36  42]\n",
        " [ 66  81  96]\n",
        " [102 126 150]]\n",
        "[[ 30  36  42  66  81  96 102 126 150]]\n",
        "[[ 30]\n",
        " [ 36]\n",
        " [ 42]\n",
        " [ 66]\n",
        " [ 81]\n",
        " [ 96]\n",
        " [102]\n",
        " [126]\n",
        " [150]]\n",
        "[[ 7  8  9 10  1  2]\n",
        " [ 3  4  5  6  7  8]\n",
        " [ 9 10  1  2  3  4]\n",
        " [ 5  6  7  8  9 10]\n",
        " [ 1  2  3  4  5  6]\n",
        " [ 7  8  9 10  1  2]]\n",
        "[ 30  36  42  66  81  96 102 126 150]\n",
        "[  1   2   3  30  36  42  66  81  96 102 126 150]\n"
       ]
      }
     ],
     "prompt_number": 62
    },
    {
     "cell_type": "code",
     "collapsed": false,
     "input": [],
     "language": "python",
     "metadata": {},
     "outputs": [],
     "prompt_number": 50
    },
    {
     "cell_type": "code",
     "collapsed": false,
     "input": [],
     "language": "python",
     "metadata": {},
     "outputs": []
    }
   ],
   "metadata": {}
  }
 ]
}