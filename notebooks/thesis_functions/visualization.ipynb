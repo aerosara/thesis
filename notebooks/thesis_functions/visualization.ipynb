{
 "metadata": {
  "name": "",
  "signature": "sha256:4feaab4869cb32320f361a47ba39163b1a137a9ba3e9a592f4ab21bb953b9ffd"
 },
 "nbformat": 3,
 "nbformat_minor": 0,
 "worksheets": [
  {
   "cells": [
    {
     "cell_type": "code",
     "collapsed": false,
     "input": [
      "\n",
      "import matplotlib.pyplot as plt\n",
      "from mpl_toolkits.mplot3d import Axes3D\n",
      "\n",
      "def PlotGrid(title, xlabel, ylabel, zlabel, data, points, aspectmode):\n",
      "    \n",
      "    # plot\n",
      "    fig, ((axXZ, axYZ), (axXY, ax3D)) = plt.subplots(2, 2)\n",
      "    fig.suptitle(title, fontsize=14)\n",
      "    fig.set_size_inches(10, 10)\n",
      "    fig.subplots_adjust(hspace=0.2)\n",
      "    fig.subplots_adjust(wspace=0.5)\n",
      "\n",
      "    # XZ Plane\n",
      "    axXZ.set_title(xlabel + zlabel + ' Plane')\n",
      "    axXZ.xaxis.set_label_text(xlabel + ' axis')\n",
      "    axXZ.yaxis.set_label_text(zlabel + ' axis')\n",
      "    axXZ.set_aspect(aspectmode)\n",
      "\n",
      "    # YZ Plane\n",
      "    axYZ.set_title(ylabel + zlabel + ' Plane')\n",
      "    axYZ.xaxis.set_label_text(ylabel + ' axis')\n",
      "    axYZ.yaxis.set_label_text(zlabel + ' axis')\n",
      "    axYZ.set_aspect(aspectmode)\n",
      "\n",
      "    # XY Plane\n",
      "    axXY.set_title(xlabel + ylabel + ' Plane')\n",
      "    axXY.xaxis.set_label_text(xlabel + ' axis')\n",
      "    axXY.yaxis.set_label_text(ylabel + ' axis')\n",
      "    axXY.set_aspect(aspectmode)\n",
      "\n",
      "    # plot in 3D\n",
      "    ax3D.axis('off')\n",
      "    ax3D = fig.add_subplot(224, projection='3d') # \"224\" means \"2x2 grid, 4th subplot\"\n",
      "    ax3D.set_title('3D View in ' + xlabel + ylabel + zlabel + ' Frame')\n",
      "    ax3D.xaxis.set_label_text(xlabel + ' axis')\n",
      "    ax3D.yaxis.set_label_text(ylabel + ' axis')\n",
      "    ax3D.zaxis.set_label_text(zlabel + ' axis')\n",
      "    ax3D.set_aspect(aspectmode)\n",
      "    \n",
      "    # add points to plots\n",
      "    for key in points:\n",
      "        axXZ.plot(points[key][0], points[key][2], 'o', markersize=5)\n",
      "        axYZ.plot(points[key][1], points[key][2], 'o', markersize=5)\n",
      "        axXY.plot(points[key][0], points[key][1], 'o', markersize=5)\n",
      "        ax3D.plot([points[key][0]], [points[key][1]], [points[key][2]], 'o', markersize=5)\n",
      "        \n",
      "    # add data to plots\n",
      "    for key in data:\n",
      "        axXZ.plot(data[key]['x'], data[key]['z'], '-')\n",
      "        axYZ.plot(data[key]['y'], data[key]['z'], '-')\n",
      "        axXY.plot(data[key]['x'], data[key]['y'], '-')\n",
      "        ax3D.plot(data[key]['x'], data[key]['y'], data[key]['z'], '-')\n",
      "        "
     ],
     "language": "python",
     "metadata": {},
     "outputs": []
    }
   ],
   "metadata": {}
  }
 ]
}