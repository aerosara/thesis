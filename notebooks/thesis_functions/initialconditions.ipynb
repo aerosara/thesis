{
 "metadata": {
  "name": "",
  "signature": "sha256:bd5fba18efb8d65dedbc08f64441a01ff33783fa674d7bd39c6864b03d688f83"
 },
 "nbformat": 3,
 "nbformat_minor": 0,
 "worksheets": [
  {
   "cells": [
    {
     "cell_type": "code",
     "collapsed": false,
     "input": [
      "import numpy as np"
     ],
     "language": "python",
     "metadata": {},
     "outputs": []
    },
    {
     "cell_type": "code",
     "collapsed": false,
     "input": [
      "\n",
      "def SetInitialConditions(ICs, ICset = 'Howell', ICtestcase = 0, numPoints = 2000):\n",
      "    \n",
      "    # user inputs \n",
      "    #ICset = 'Howell'  # 'Sharp' 'Howell' 'Barbee'\n",
      "    #ICtestcase = 0\n",
      "    #numPoints = 2000\n",
      "\n",
      "    # assign simulation variables using specified elements from dictionary of IC's\n",
      "    mu = ICs[ICset]['mu'][ICtestcase]\n",
      "\n",
      "    timespan = np.linspace(0, ICs[ICset]['T'][ICtestcase], numPoints)\n",
      "\n",
      "    initialstate1 = [ICs[ICset]['X'][ICtestcase], 0,                              ICs[ICset]['Z'][ICtestcase],\n",
      "                     0,                           ICs[ICset]['Ydot'][ICtestcase], 0]\n",
      "    \n",
      "    return mu, timespan, initialstate1\n",
      "  "
     ],
     "language": "python",
     "metadata": {},
     "outputs": [],
     "prompt_number": 3
    },
    {
     "cell_type": "code",
     "collapsed": false,
     "input": [
      "\n",
      "def InputDataDictionary():\n",
      "    \n",
      "    # create a dictionary for the initial conditions\n",
      "    ICs = dict()\n",
      "\n",
      "    # From Sharp, A Collection of Restricted Three-Body Test Problems\n",
      "    # For problems 1 to 15, mu = 0.012277471 and for problems 16 to 20, mu = 0.000953875\n",
      "    ICs['Sharp'] = {'mu': np.ones(20),\n",
      "                    'X':  np.zeros(20),\n",
      "                    'Z':  np.zeros(20),\n",
      "                    'Ydot': np.zeros(20),\n",
      "                    'T':    np.zeros(20)}\n",
      "\n",
      "    Sharp_X_Z_Ydot_T = np.matrix([[0.994000E+00, 0.0, -0.21138987966945026683E+01, 0.54367954392601899690E+01],\n",
      "                                  [0.994000E+00, 0.0, -0.20317326295573368357E+01, 0.11124340337266085135E+02],\n",
      "                                  [0.994000E+00, 0.0, -0.20015851063790825224E+01, 0.17065216560157962559E+02],\n",
      "                                  [0.997000E+00, 0.0, -0.16251217072210773125E+01, 0.22929723423442969481E+02],\n",
      "                                  [0.879962E+00, 0.0, -0.66647197988564140807E+00, 0.63006757422352314657E+01],\n",
      "                                  [0.879962E+00, 0.0, -0.43965281709207999128E+00, 0.12729711861022426544E+02],\n",
      "                                  [0.879962E+00, 0.0, -0.38089067106386964470E+00, 0.19138746281183026809E+02],\n",
      "                                  [0.997000E+00, 0.0, -0.18445010489730401177E+01, 0.12353901248612092736E+02],\n",
      "                                  [0.100000E+01, 0.0, -0.16018768253456252603E+01, 0.12294387796695023304E+02],\n",
      "                                  [0.100300E+01, 0.0, -0.14465123738451062297E+01, 0.12267904265603897140E+02],\n",
      "                                  [0.120000E+01, 0.0, -0.71407169828407848921E+00, 0.18337451820715063383E+02],\n",
      "                                  [0.120000E+01, 0.0, -0.67985320356540547720E+00, 0.30753758552146029263E+02],\n",
      "                                  [0.120000E+01, 0.0, -0.67153130632829144331E+00, 0.43214375227857454128E+02],\n",
      "                                  [0.120000E+01, 0.0, -0.66998291305226832207E+00, 0.55672334134347612727E+02],\n",
      "                                  [0.120000E+01, 0.0, -0.66975741517271092087E+00, 0.68127906604713772763E+02],\n",
      "                                  [-0.102745E+01, 0.0, 0.40334488290490413053E-01, 0.18371316400018903965E+03],\n",
      "                                  [-0.976680E+00, 0.0, -0.61191623926410837000E-01, 0.17733241131524483004E+03],\n",
      "                                  [-0.766650E+00, 0.0, -0.51230158665978820282E+00, 0.17660722897242937108E+03],\n",
      "                                  [-0.109137E+01, 0.0, 0.14301959822238380020E+00, 0.82949461922342093092E+02],\n",
      "                                  [-0.110137E+01, 0.0, 0.15354250908611454510E+00, 0.60952121909407746612E+02]])\n",
      "\n",
      "    ICs['Sharp']['mu'][0:15] *= 0.012277471\n",
      "    ICs['Sharp']['mu'][15:20] *= 0.000953875\n",
      "    ICs['Sharp']['X']    = np.array(Sharp_X_Z_Ydot_T[:,0])\n",
      "    ICs['Sharp']['Z']    = np.array(Sharp_X_Z_Ydot_T[:,1])\n",
      "    ICs['Sharp']['Ydot'] = np.array(Sharp_X_Z_Ydot_T[:,2])\n",
      "    ICs['Sharp']['T']    = np.array(Sharp_X_Z_Ydot_T[:,3])\n",
      "\n",
      "    # From Howell, Three-Dimensional, Periodic, 'Halo' Orbits\n",
      "    ICs['Howell'] = {'mu':   [0.04, 0.04],\n",
      "                     'X':    [0.723268,     0.723268],\n",
      "                     'Z':    [0.040000,    -0.040000],\n",
      "                     'Ydot': [0.198019,     0.198019],\n",
      "                     'T':    [1.300177*2.0, 1.300177*2.0]}\n",
      "\n",
      "    # From Barbee, Notional Mission 4 (Earth-Moon)\n",
      "    ICs['Barbee'] = {'mu':   [0.012277471],\n",
      "                     'X':    [0.862307159058101],\n",
      "                     'Z':    [0.0],\n",
      "                     'Ydot': [-0.187079489569182],\n",
      "                     'T':    [2.79101343456226]}  # 12.135 days\n",
      "    \n",
      "    return ICs\n"
     ],
     "language": "python",
     "metadata": {},
     "outputs": [],
     "prompt_number": 4
    },
    {
     "cell_type": "code",
     "collapsed": false,
     "input": [],
     "language": "python",
     "metadata": {},
     "outputs": [],
     "prompt_number": 4
    }
   ],
   "metadata": {}
  }
 ]
}