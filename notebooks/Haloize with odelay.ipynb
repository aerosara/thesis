{
 "metadata": {
  "name": "",
  "signature": "sha256:2a308f0838082efc652326fea7adcc33cfa2864194380a12855957f6945c0302"
 },
 "nbformat": 3,
 "nbformat_minor": 0,
 "worksheets": [
  {
   "cells": [
    {
     "cell_type": "heading",
     "level": 3,
     "metadata": {},
     "source": [
      "CRTBP Derivatives, Stopping Conditions, and Initial Conditions"
     ]
    },
    {
     "cell_type": "code",
     "collapsed": false,
     "input": [
      "\n",
      "%reset\n",
      "%pylab inline\n",
      "\n",
      "import scipy.integrate as integrate\n",
      "import matplotlib.pyplot as plt\n",
      "from mpl_toolkits.mplot3d import Axes3D\n",
      "import numpy as np\n",
      "import math\n",
      "from pycse import odelay\n",
      "from scipy.optimize import fsolve\n",
      "\n",
      "from thesis_functions.astro import FindOrbitCenter, ComputeLibrationPoints, stop_yEquals0, stop_zEquals0, PropagateSatellite, BuildRICFrame, BuildVNBFrame  #nonlinearDerivativesFunction\n",
      "from thesis_functions.visualization import PlotGrid\n",
      "\n",
      "def stop_maxTime(state, t):\n",
      "    isterminal = True\n",
      "    direction = 0\n",
      "    value = abs(t)-3  # stop if time is greater than 3 units\n",
      "    return value, isterminal, direction\n",
      "\n",
      "def nonlinearDerivativesFunction(inputstate, timespan):\n",
      "    \n",
      "    x, y, z, xdot, ydot, zdot = inputstate\n",
      "    \n",
      "    # distances\n",
      "    r1 = np.sqrt((mu+x)**2.0 + y**2.0 + z**2.0);\n",
      "    r2 = np.sqrt((1-mu-x)**2.0 + y**2.0 + z**2.0);\n",
      "    \n",
      "    derivs = [xdot, \n",
      "              ydot,\n",
      "              zdot, \n",
      "              x + 2.0*ydot + (1 - mu)*(-mu - x)/(r1**3.0) + mu*(1 - mu - x)/(r2**3.0),\n",
      "              y - 2.0*xdot - (1 - mu)*y/(r1**3.0) - mu*y/(r2**3.0),\n",
      "              -(1 - mu)*z/(r1**3.0) - mu*z/(r2**3.0)]\n",
      "    \n",
      "    return derivs\n",
      "\n",
      "#muArray_H = [0.04]\n",
      "#testcases_H = np.array([[0.723268, 0.040000, 0.198019, 1.300177*4.0]]) # x, z, ydot, T\n",
      "\n",
      "testcase = 0\n",
      "#mu = muArray_H[testcase]\n",
      "#timespan = np.linspace(0, testcases_H[testcase, 3], 2000) # Howell\n",
      "#initialstate_H = [testcases_H[testcase, 0], 0, testcases_H[testcase,1], 0, testcases_H[testcase, 2], 0]  # Howell\n",
      "\n",
      "# create a perturbed initial state\n",
      "#initialstate2 = np.zeros(len(initialstate_H))\n",
      "#initialstate2[0:3] = initialstate_H[0:3]\n",
      "#initialstate2[3:6] = [x * 1.001 for x in initialstate_H[3:6]]\n",
      "\n",
      "#print initialstate2\n"
     ],
     "language": "python",
     "metadata": {},
     "outputs": [
      {
       "name": "stdout",
       "output_type": "stream",
       "stream": "stdout",
       "text": [
        "Once deleted, variables cannot be recovered. Proceed (y/[n])? y\n"
       ]
      },
      {
       "output_type": "stream",
       "stream": "stdout",
       "text": [
        "Populating the interactive namespace from numpy and matplotlib\n"
       ]
      }
     ],
     "prompt_number": 113
    },
    {
     "cell_type": "heading",
     "level": 3,
     "metadata": {},
     "source": [
      "Define functions: ForceForwardToNextEvent, ForceForwardNEvents, FuncToSolve, Haloize"
     ]
    },
    {
     "cell_type": "code",
     "collapsed": false,
     "input": [
      "\n",
      "''' from the pysce source code at https://github.com/jkitchin/pycse/blob/2c9ff7fe81b0dfb34b3edf87356817312910b799/pycse/PYCSE.py#L78\n",
      "odelay(func, y0, xspan, events, fsolve_args=None, **kwargs):\n",
      "    ode wrapper with events func is callable, with signature func(Y, x)\n",
      "    y0 are the initial conditions xspan is what you want to integrate\n",
      "    over\n",
      "\n",
      "    events is a list of callable functions with signature event(Y, x).\n",
      "    These functions return zero when an event has happened.\n",
      "    \n",
      "    [value, isterminal, direction] = event(Y, x)\n",
      "    value is the value of the event function. When value = 0, an event is  triggered\n",
      "\n",
      "    isterminal = True if the integration is to terminate at a zero of\n",
      "    this event function, otherwise, False.\n",
      "\n",
      "    direction = 0 if all zeros are to be located (the default), +1\n",
      "    if only zeros where the event function is increasing, and -1 if\n",
      "    only zeros where the event function is decreasing.\n",
      "\n",
      "    fsolve_args is a dictionary of options for fsolve\n",
      "    kwargs are any additional options you want to send to odeint.\n",
      "    '''\n",
      "\n",
      "def ForceForwardToNextEvent(initialstate, eventType):\n",
      "    \n",
      "    # take a small step forward (0.1 time units) so that the integration is sure to move forward from the current state\n",
      "    shorttimespan = np.linspace(0.0, 0.1, 10)\n",
      "    computeOneStep = integrate.odeint(nonlinearDerivativesFunction, initialstate, shorttimespan)\n",
      "    \n",
      "    # this is the new initial state (last vector from short propagation above)\n",
      "    initialstate = computeOneStep[9]\n",
      "    \n",
      "    # step to the next event (given maximum time constraint)\n",
      "    t, statesOverTime, EventTime, EventState, EventIndex = odelay(nonlinearDerivativesFunction, initialstate, timespan, events=[eventType, stop_maxTime])\n",
      "    \n",
      "    EventTime = EventTime + 0.1;\n",
      "    \n",
      "    return EventTime, EventState\n",
      "\n",
      "def ForceForwardNEvents(inputstate, eventType, nEvents):\n",
      "    \n",
      "    # propagate forward the specified nEvents\n",
      "    for x in xrange(0, nEvents):\n",
      "        eTime, eState = ForceForwardToNextEvent(inputstate, eventType)\n",
      "        inputstate = eState[0]\n",
      "        # seems like you can't look ahead more than 2-3 plane crossings without doing deltaV's\n",
      "        \n",
      "    return eTime, eState\n",
      "    \n",
      "\n",
      "# step to abs(y) < 1e-11 (per Howell)\n",
      "\n",
      "# adjust so xdot, zdot are zero (within 1e-8) when y is zero\n",
      "# can adjust: initial x, z, or ydot\n",
      "\n",
      "def FuncToSolve(initialguesses, inputstate, holdXorZ, numEventsToLookAhead):\n",
      "    ''' initialguesses will contain [x and ydot] or [z and ydot] or just [ydot], depending on value of holdXorZ. \n",
      "        inputstate will contain the full position and velocity state.\n",
      "        the values inside initialguesses will be adjusted to get perpendicular XZ plane crossings after numEventsToLookAhead.'''\n",
      "    \n",
      "    # set the initialguesses into the appropriate components of the inputstate\n",
      "    if (holdXorZ == 'X'):\n",
      "        inputstate[2] = initialguesses[0]  # Z\n",
      "        inputstate[4] = initialguesses[1]  # Ydot\n",
      "    elif (holdXorZ == 'Z'):\n",
      "        inputstate[0] = initialguesses[0]  # X\n",
      "        inputstate[4] = initialguesses[1]  # Ydot\n",
      "    elif (holdXorZ == 'both'):\n",
      "        # limit to 1% updates\n",
      "        #if ((abs(initialguesses[0]) - abs(inputstate[4]))/abs(inputstate[4]) < 0.01):\n",
      "        inputstate[4] = initialguesses[0]  # Ydot\n",
      "            #inputstate[5] = initialguesses[1]\n",
      "        \n",
      "    # propagate forward the specified numEventsToLookAhead\n",
      "    eTime, eState = ForceForwardNEvents(inputstate, stop_yEquals0, numEventsToLookAhead)\n",
      "    \n",
      "    result = [eState[0,3], eState[0,5]]  # Vx, Vz = 0 gives a perpendicular XZ plane crossing\n",
      "    \n",
      "    return result  # fsolve will look for a solution that makes the results = 0\n",
      "\n",
      "\n",
      "def Haloize(inputstate, holdXorZ, numEventsToLookAhead):\n",
      "    \n",
      "    # the 'initialguesses' vector that gets passed to the FuncToSolve has to be the parameters \n",
      "    # that fsolve is allowed to vary in order to get the results to be zero\n",
      "    if (holdXorZ == 'X'):\n",
      "        initialguesses = [inputstate[2], inputstate[4]]  # Z and Ydot\n",
      "    elif (holdXorZ == 'Z'):\n",
      "        initialguesses = [inputstate[0], inputstate[4]]  # X and Ydot\n",
      "    elif (holdXorZ == 'both'):\n",
      "        #initialguesses = [inputstate[4], inputstate[5]]  # Ydot and Zdot\n",
      "        initialguesses = inputstate[4]  # Ydot only\n",
      "    \n",
      "    # refine initial guesses\n",
      "    ''' from fsolve documentation at http://docs.scipy.org/doc/scipy/reference/generated/scipy.optimize.fsolve.html:\n",
      "    scipy.optimize.fsolve(func, x0, args=(), ...)\n",
      "    func: A function that takes at least one (possibly vector) argument.\n",
      "    x0: The starting estimate for the roots of func(x) = 0.\n",
      "    args: Any extra arguments to func. '''\n",
      "    solution = fsolve(FuncToSolve, initialguesses, (inputstate, holdXorZ, numEventsToLookAhead))\n",
      "\n",
      "    # print the update applied to X/Z and Vy\n",
      "    print 'solution = ', solution, 'solution-initialguesses = ', solution-initialguesses  \n",
      "\n",
      "    # TODO: make this work even if the input state isn't at a plane crossing... I guess you would need to let the solver adjust the input Vx and Vz (in addition to Vy) if you're not at the XZ plane crossing.......\n",
      "\n",
      "    # copy solution from fsolve into haloState\n",
      "    haloState = inputstate\n",
      "    \n",
      "    if (holdXorZ == 'X'):\n",
      "        haloState[2] = solution[0]\n",
      "        haloState[4] = solution[1]\n",
      "    elif (holdXorZ == 'Z'):\n",
      "        haloState[0] = solution[0]\n",
      "        haloState[4] = solution[1]\n",
      "    elif (holdXorZ == 'both'):\n",
      "        haloState[4] = solution[0]\n",
      "        #haloState[5] = solution[1]\n",
      "    \n",
      "    return haloState\n"
     ],
     "language": "python",
     "metadata": {},
     "outputs": [],
     "prompt_number": 114
    },
    {
     "cell_type": "heading",
     "level": 3,
     "metadata": {},
     "source": [
      "Set input state and call Haloize"
     ]
    },
    {
     "cell_type": "code",
     "collapsed": false,
     "input": [
      "\n",
      "# test case\n",
      "#initialguesses_x_ydot = [0.723268, 0.198019] # x, ydot\n",
      "#initz = 0.04000\n",
      "\n",
      "#initialguesses_x_ydot = [0.723268, 0.198019] # x, ydot\n",
      "#initz = 0.050\n",
      "\n",
      "#inputstate = [initialguesses_x_ydot[0], 0.0, initz, 0.0, initialguesses_x_ydot[1], 0.0]\n",
      "\n",
      "#inputstate = [0.72311425511821148, 0.0, 0.05, 0.0, 0.20832957653736492, 0.0]  # solution from Z = 0.05\n",
      "mu = 0.04\n",
      "timespan = np.linspace(0.0, 3.0, 200)\n",
      "inputstate = [0.723, 0.0, 0.05, 0.0, 0.208, 0.0]\n",
      "\n",
      "print 'inputstate = ', inputstate\n",
      "\n",
      "\n",
      "# inputs to halo-ization\n",
      "numEventsToLookAhead = 1\n",
      "holdXorZ = 'both'  # 'X' 'Z' 'both'\n",
      "\n",
      "\n",
      "# result from function using initial guesses (what are the Vx and Vz components at the \n",
      "# specified XZ plane crossing when just using the input state?  fsolve will adjust inputs so that this result gets close to zero)\n",
      "eTime, initialGuessResult = ForceForwardNEvents(inputstate, stop_yEquals0, numEventsToLookAhead)  \n",
      "print 'eTime = ', eTime, ', initialGuessResult = ', initialGuessResult\n",
      "\n",
      "# we have the option to hold the X or Z component constant; the other component (X or Z)\n",
      "# and the Ydot will be adjusted to get a halo orbit (perpendicular XZ plane crossings)\n",
      "haloState = Haloize(inputstate, holdXorZ, numEventsToLookAhead)  \n",
      "print 'haloState = ', haloState\n",
      "\n",
      "# result from function using solution (Vx and Vz should be close to zero)\n",
      "eTime, SolutionResult = ForceForwardNEvents(haloState, stop_yEquals0, numEventsToLookAhead)  \n",
      "print 'eTime = ', eTime, ', SolutionResult = ', SolutionResult\n"
     ],
     "language": "python",
     "metadata": {},
     "outputs": [
      {
       "output_type": "stream",
       "stream": "stdout",
       "text": [
        "inputstate =  [0.721, 0.0, 0.05, 0.0, 0.208, 0.0]\n",
        "eTime = "
       ]
      },
      {
       "output_type": "stream",
       "stream": "stdout",
       "text": [
        " [ 2.31833947] , initialGuessResult =  [[ -2.01468801e-01   3.53016227e-16   3.72434581e-03  -1.07554566e+00\n",
        "   -2.73483587e+00  -1.98084986e-01]]\n",
        "solution = "
       ]
      },
      {
       "output_type": "stream",
       "stream": "stdout",
       "text": [
        " [-0.00090222] solution-initialguesses =  [-0.20890222]\n",
        "haloState =  [0.721, 0.0, 0.05, 0.0, -0.00090221604697969201, 0.0]\n",
        "eTime =  [ 0.09955968] , SolutionResult =  [[ 0.71965036  0.          0.04878872 -0.02723166  0.00180579 -0.02421457]]\n"
       ]
      }
     ],
     "prompt_number": 115
    },
    {
     "cell_type": "code",
     "collapsed": false,
     "input": [
      "\n",
      "# determine orbit period\n",
      "eTime, eState = ForceForwardToNextEvent(haloState, stop_yEquals0)\n",
      "\n",
      "# propagate for X orbits (eTime[0]*4.0 = 2 orbits)\n",
      "timespan = np.linspace(0.0, eTime[0]*2.0, 200)\n",
      "\n",
      "statesOverTime = integrate.odeint(nonlinearDerivativesFunction, haloState, timespan)\n",
      "\n",
      "print 'eTime[0] = ', eTime[0]\n"
     ],
     "language": "python",
     "metadata": {},
     "outputs": [
      {
       "output_type": "stream",
       "stream": "stdout",
       "text": [
        "eTime[0] =  0.0995596773342\n"
       ]
      }
     ],
     "prompt_number": 116
    },
    {
     "cell_type": "code",
     "collapsed": false,
     "input": [
      "\n",
      "x1, y1, z1, xdot1, ydot1, zdot1 = statesOverTime.T\n",
      "\n",
      "center = FindOrbitCenter(x1, y1, z1);\n",
      "\n",
      "data = {'sat1': {'x':x1, 'y':y1, 'z':z1}}\n",
      "points = {'center': center}\n",
      "PlotGrid('Satellite 1 in RLP Frame', 'X', 'Y', 'Z', data, points, 'equal')\n"
     ],
     "language": "python",
     "metadata": {},
     "outputs": [
      {
       "output_type": "stream",
       "stream": "stdout",
       "text": [
        "center =  [0.7155290589683363, 0.0, 0.04522479993307775]\n"
       ]
      },
      {
       "metadata": {},
       "output_type": "display_data",
       "png": "[encoded data removed]",
       "text": [
        "<matplotlib.figure.Figure at 0x10808e290>"
       ]
      }
     ],
     "prompt_number": 117
    }
   ],
   "metadata": {}
  }
 ]
}